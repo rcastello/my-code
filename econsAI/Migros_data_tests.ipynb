{
 "cells": [
  {
   "cell_type": "markdown",
   "metadata": {},
   "source": [
    "# NOTEBOOK 0: MIGROS DATA DISCOVERY"
   ]
  },
  {
   "cell_type": "code",
   "execution_count": null,
   "metadata": {},
   "outputs": [],
   "source": [
    "import numpy as np\n",
    "import pandas as pd\n",
    "import seaborn as sns\n",
    "\n",
    "import matplotlib.pyplot as plt\n",
    "\n",
    "%matplotlib notebook\n",
    "sns.set(style=\"ticks\", font_scale=1.2, context=\"talk\")\n",
    "sns.set_style(\"white\", {'axes.grid' : False})\n",
    "plt.rcParams['figure.figsize'] = (18, 7)"
   ]
  },
  {
   "cell_type": "markdown",
   "metadata": {},
   "source": [
    "Import the 15 minutes data sample from Migros (2 stations Aadorf and Zuzwill) (after I cleaned the data and took out manually useless headers)"
   ]
  },
  {
   "cell_type": "code",
   "execution_count": null,
   "metadata": {},
   "outputs": [],
   "source": [
    "migros_data = pd.read_csv(\"data/AADO_and_ZUZW_ConsumptionRawValues_CLEAN.csv\",delimiter=\",\",header=0,encoding=\"ISO-8859-1\")\n",
    "migros_data"
   ]
  },
  {
   "cell_type": "code",
   "execution_count": null,
   "metadata": {},
   "outputs": [],
   "source": [
    "Station_locations = migros_data.columns[1:]\n",
    "Station_locations"
   ]
  },
  {
   "cell_type": "markdown",
   "metadata": {},
   "source": [
    "Let's keep only the total electricity, heat consumption, warm heating, for both locations. (The other columns are sub-consumptions for sub-markets or rooms within the migros location).\n",
    "So it is 3 * 2 stations, * 12 months * 3 years = 216 monthly images. "
   ]
  },
  {
   "cell_type": "code",
   "execution_count": null,
   "metadata": {},
   "outputs": [],
   "source": [
    "3*2*12*3"
   ]
  },
  {
   "cell_type": "code",
   "execution_count": null,
   "metadata": {},
   "outputs": [],
   "source": [
    "Station_locations_selected0 = ['Stromverbrauch Gesamt','Wrmeverbrauch Gesamt','Wasserverbrauch Gesamt','Stromverbrauch Gesamt.1','Wrmeverbrauch Gesamt.1','Wasserverbrauch Gesamt.1']"
   ]
  },
  {
   "cell_type": "markdown",
   "metadata": {},
   "source": [
    "Select the right columns in the data. "
   ]
  },
  {
   "cell_type": "code",
   "execution_count": null,
   "metadata": {},
   "outputs": [],
   "source": [
    "migros_data_selection = migros_data[Station_locations_selected0]\n",
    "migros_data_selection.index = migros_data[\"Description\"]\n",
    "# rename column names\n",
    "migros_data_selection = migros_data_selection.rename(\n",
    "    columns={\"Stromverbrauch Gesamt\": \"Aadorf_tot_elec\", \n",
    "                   \"Wrmeverbrauch Gesamt\": \"Aadorf_tot_heating\",\n",
    "                  \"Wasserverbrauch Gesamt\": \"Aadorf_tot_water\",\n",
    "                  \"Stromverbrauch Gesamt.1\": \"Zuzwil_tot_elec\", \n",
    "                   \"Wrmeverbrauch Gesamt.1\": \"Zuzwil_tot_heating\",\n",
    "                  \"Wasserverbrauch Gesamt.1\": \"Zuzwil_tot_water\"})\n",
    "\n",
    "Station_locations_selected = migros_data_selection.columns"
   ]
  },
  {
   "cell_type": "code",
   "execution_count": null,
   "metadata": {},
   "outputs": [],
   "source": [
    "migros_data_selection"
   ]
  },
  {
   "cell_type": "markdown",
   "metadata": {},
   "source": [
    "Look at times series, for the selected columns \n"
   ]
  },
  {
   "cell_type": "code",
   "execution_count": null,
   "metadata": {},
   "outputs": [],
   "source": [
    "station_list = []\n",
    "# the first 48 colums are apriori the locations with the demand; then the temperature or others\n",
    "\n",
    "for station_no in range(len(Station_locations_selected)):\n",
    "    # plot just the demand values (first 5 rows are other things)\n",
    "    station = migros_data_selection.iloc[5:,station_no].fillna(-1)\n",
    "    # set up the time stamp as the index\n",
    "    station.index = pd.DatetimeIndex(migros_data_selection.index[5:])\n",
    "    \n",
    "    ## treat the last station because for some reason the values are not numerical but strings?? TRASNFORM THE STRINGS INTO NUMBERS\n",
    "    #if station_no == 47:\n",
    "    #    station = pd.Series(np.array([ float(el) for el in station]))\n",
    "    #    station.index = pd.DatetimeIndex(data.iloc[5:,0])\n",
    "    \n",
    "    station_list.append(station)"
   ]
  },
  {
   "cell_type": "code",
   "execution_count": null,
   "metadata": {},
   "outputs": [],
   "source": [
    "# transform in float values everywhere; there are some values recorded as strings...\n",
    "station_list2 = []\n",
    "for i in range(len(station_list)):\n",
    "    \n",
    "    # float each number, while keeping the series format\n",
    "    station2 = pd.Series(np.array([float(el) for el in station_list[i]]))\n",
    "    # keeping the datetimes as indexes\n",
    "    station2.index = station_list[i].index\n",
    "    station_list2.append(station2)"
   ]
  },
  {
   "cell_type": "markdown",
   "metadata": {},
   "source": [
    "plot times series for the two total electricity stations "
   ]
  },
  {
   "cell_type": "code",
   "execution_count": null,
   "metadata": {
    "scrolled": true
   },
   "outputs": [],
   "source": [
    "sns.set(style=\"ticks\", font_scale=1.2, context=\"talk\")\n",
    "sns.set_style(\"white\", {'axes.grid' : False})\n",
    "plt.rcParams['figure.figsize'] = (15, 12)\n",
    "\n",
    "fig = plt.figure()\n",
    "\n",
    "plt.subplot(2,1,1)\n",
    "station_list2[0].plot()\n",
    "plt.title(Station_locations_selected[0])\n",
    "\n",
    "plt.subplot(2,1,2)\n",
    "station_list2[3].plot()\n",
    "plt.title(Station_locations_selected[3])#fig.tight_layout()\n",
    "\n",
    "plt.show()"
   ]
  },
  {
   "cell_type": "code",
   "execution_count": null,
   "metadata": {},
   "outputs": [],
   "source": []
  },
  {
   "cell_type": "markdown",
   "metadata": {},
   "source": [
    "#### We are supposed to give flags at week resolution. So let's see hows things are doing at week scale."
   ]
  },
  {
   "cell_type": "code",
   "execution_count": null,
   "metadata": {},
   "outputs": [],
   "source": [
    "def TimeFormat(year, month, day):\n",
    "    temp = \"\".join([str(year),\"-\",str(month),\"-\",str(day)])\n",
    "    return(temp)"
   ]
  },
  {
   "cell_type": "markdown",
   "metadata": {},
   "source": [
    "Plot for one station, one year, one month, the 4 weeks demand."
   ]
  },
  {
   "cell_type": "code",
   "execution_count": null,
   "metadata": {
    "scrolled": false
   },
   "outputs": [],
   "source": [
    "sns.set(style=\"ticks\", font_scale=1.2, context=\"talk\")\n",
    "sns.set_style(\"white\", {'axes.grid' : False})\n",
    "plt.rcParams['figure.figsize'] = (15, 10)\n",
    "\n",
    "\n",
    "# station in Aadorf\n",
    "station_no = 0\n",
    "year_no,month_no = 2017,1\n",
    "\n",
    "# plot the 4 weeks in January (excluding the 3 last days, that allows to plot all the months in the same manner.)\n",
    "fig=plt.figure()\n",
    "for i in range(4):\n",
    "    plt.subplot(4,1,i+1)\n",
    "    station_week = station_list2[station_no][TimeFormat(year_no, month_no, 1 + 7*i):TimeFormat(year_no, month_no, 7*(i+1))]\n",
    "    # plot each week with the original 15 minutes resolution.\n",
    "    #station_week.plot()\n",
    "    ## resample by hour instead of 15 minutes\n",
    "    station_week.resample('h').mean().plot()\n",
    "    plt.xlabel(\"Electricity demand\")\n",
    "    if i==1:\n",
    "        plt.ylabel(\"Hours of the day\")\n",
    "    #plt.axis([1 + 7*i, 7*(i+1),0,24])\n",
    "#fig.tight_layout()\n",
    "plt.show()        "
   ]
  },
  {
   "cell_type": "code",
   "execution_count": null,
   "metadata": {},
   "outputs": [],
   "source": [
    "# example week\n",
    "week = station_list2[station_no][TimeFormat(year_no, month_no, 1 + 7*i):TimeFormat(year_no, month_no, 7*(i+1))]\n",
    "# resample for each hour instead of 15 minutes\n",
    "week_hours = week.resample('h').mean()\n",
    "# just fold the data every 24 hours to make the (hours,week days) matrix \n",
    "week_matrix = np.array([week_hours[ 24*j:24*(j+1)] for j in range(7)]).T\n",
    "week_matrix"
   ]
  },
  {
   "cell_type": "markdown",
   "metadata": {},
   "source": [
    "#### Entire year plot, from march (to match the study); for one station"
   ]
  },
  {
   "cell_type": "code",
   "execution_count": null,
   "metadata": {},
   "outputs": [],
   "source": [
    "# PLOT\n",
    "def PlotMonthDemand(station,year,month, vmin=None,vmax=None,save=False):\n",
    "    mon = [\"Jan\",\"Feb\",\"Mar\",\"Apr\",\"May\",\"Jun\",\"Jul\",\"Aug\",\"Sep\",\"Oct\",\"Nov\",\"Dec\"]\n",
    "\n",
    "    fig = plt.figure()\n",
    "    \n",
    "    # select 2018 from march to march 2019, like in the survey\n",
    "    month_series = station_list2[station][TimeFormat(year, month, 1 ):TimeFormat(year, month, 28)]\n",
    "    # resample for each hour instead of 15 minutes\n",
    "    #year_series_hours = year_series.resample('h').mean()\n",
    "    # just fold the data every 24 hours to make the (hours,week days) matrix \n",
    "    month_series_matrix = np.array([month_series[ 96*j:96*(j+1)][::-1] for j in range(int(len(month_series)/96))]).T\n",
    "    \n",
    "    # plot\n",
    "    plt.imshow(month_series_matrix, aspect=\"auto\", cmap=\"gray\",vmin=vmin,vmax=vmax,extent=[0,int(len(month_series)/96),0,96])    \n",
    "    plt.colorbar()\n",
    "    plt.title(\"\".join([\"Station : \",Station_locations_selected[station], \", Year: \", str(year) ,\", Month: \", mon[month-1] ] ) )\n",
    "\n",
    "    plt.xlabel(\"Days of the month\")\n",
    "    plt.ylabel(\"15 minutes groups in the day\")\n",
    "    fig.tight_layout()\n",
    "    \n",
    "    \n",
    "    # to save if you want\n",
    "    if save == True:\n",
    "        name = ''.join([\"Migros_energy_images/MonthImage_\",Station_locations_selected[station] ,\"_\",str(year),\"_\",str(month)  ])\n",
    "        fig.savefig(name,dpi=300,bbox_inches=\"tight\")"
   ]
  },
  {
   "cell_type": "markdown",
   "metadata": {},
   "source": [
    "Year demand, from january to december this time (this is not Swisscom data)"
   ]
  },
  {
   "cell_type": "code",
   "execution_count": null,
   "metadata": {},
   "outputs": [],
   "source": [
    "year=\"2018\"\n",
    "month = \"12\"\n",
    "''.join([Station_locations_selected[0] ,\"_\",year,\"_\",month  ])"
   ]
  },
  {
   "cell_type": "code",
   "execution_count": null,
   "metadata": {},
   "outputs": [],
   "source": [
    "\n",
    "def PlotYearDemand(station, year,vmin=None,vmax=None):\n",
    "    #fig = plt.figure()\n",
    "    fig, ax = plt.subplots(1,1)\n",
    "    #  \n",
    "    year_series = station_list2[station][TimeFormat(year, 1, 1 ):TimeFormat(year, 12, 31)]\n",
    "    # resample for each hour instead of 15 minutes\n",
    "    #year_series_hours = year_series.resample('h').mean()\n",
    "    # just fold the data every 24 hours to make the (hours,week days) matrix \n",
    "    year_series_matrix = np.array([year_series[ 96*j:96*(j+1)][::-1] for j in range(int(len(year_series)/96))]).T\n",
    "    \n",
    "    # plot\n",
    "    plt.imshow(year_series_matrix, aspect=\"auto\", cmap=\"jet\",vmin=vmin,vmax=vmax,extent=[0,int(len(year_series)/96),0,96])    \n",
    "    plt.colorbar()\n",
    "    plt.title(\"\".join([\"Station : \",Station_locations_selected[station]]) )\n",
    "    plt.xlabel(\"Days of the year\")\n",
    "    plt.ylabel(\"15 minutes groups in the day\")\n",
    "    \n",
    "    #x_label_list = list(year_series.index)\n",
    "    #ax.set_xticks([0,int(len(year_series)/96),96,0])\n",
    "    #ax.set_xticklabels(x_label_list)\n",
    "    \n",
    "    fig.tight_layout()\n",
    "    plt.show()\n"
   ]
  },
  {
   "cell_type": "markdown",
   "metadata": {},
   "source": [
    "Plot!"
   ]
  },
  {
   "cell_type": "code",
   "execution_count": null,
   "metadata": {},
   "outputs": [],
   "source": [
    "sns.set(style=\"ticks\", font_scale=1.2, context=\"talk\")\n",
    "sns.set_style(\"white\", {'axes.grid' : False})\n",
    "plt.rcParams['figure.figsize'] = (28, 7)"
   ]
  },
  {
   "cell_type": "markdown",
   "metadata": {},
   "source": [
    "One station, different years"
   ]
  },
  {
   "cell_type": "code",
   "execution_count": null,
   "metadata": {},
   "outputs": [],
   "source": [
    "station_no = 0\n",
    "PlotYearDemand(station_no,2016)"
   ]
  },
  {
   "cell_type": "code",
   "execution_count": null,
   "metadata": {},
   "outputs": [],
   "source": [
    "station_no = 0\n",
    "PlotYearDemand(station_no,2017)"
   ]
  },
  {
   "cell_type": "code",
   "execution_count": null,
   "metadata": {},
   "outputs": [],
   "source": [
    "station_no = 0\n",
    "PlotYearDemand(station_no,2018)"
   ]
  },
  {
   "cell_type": "markdown",
   "metadata": {},
   "source": [
    "Same station, at month level."
   ]
  },
  {
   "cell_type": "code",
   "execution_count": null,
   "metadata": {},
   "outputs": [],
   "source": [
    "station_no = 0\n",
    "PlotMonthDemand(station_no,2016,7, vmin=0)\n"
   ]
  },
  {
   "cell_type": "code",
   "execution_count": null,
   "metadata": {},
   "outputs": [],
   "source": [
    "# bonaduz\n",
    "station_no = 0\n",
    "PlotMonthDemand(station_no,2017,1,save=True)"
   ]
  },
  {
   "cell_type": "code",
   "execution_count": null,
   "metadata": {},
   "outputs": [],
   "source": [
    "# bonaduz\n",
    "station_no = 0\n",
    "PlotMonthDemand(station_no,2016,11)"
   ]
  },
  {
   "cell_type": "markdown",
   "metadata": {},
   "source": [
    "##### Let's plot all month images, for all 2017 and 2018 (issues and missing months in 2016 and 2019), for the 6 stations (i.e. 2 locations for the 3 energy types)"
   ]
  },
  {
   "cell_type": "code",
   "execution_count": null,
   "metadata": {},
   "outputs": [],
   "source": [
    "for station in range(len(Station_locations_selected)):\n",
    "    for year in (el for el in [2017,2018]):\n",
    "        for month in range(1,13):\n",
    "            PlotMonthDemand(station,year,month,save=True)\n",
    "            print(\"next month...\")   \n",
    "        print(\"next year... pfouahh\")\n",
    "    print(\"Current energy type done...\")"
   ]
  },
  {
   "cell_type": "markdown",
   "metadata": {},
   "source": [
    "### Circle representation (not explored anymore)"
   ]
  },
  {
   "cell_type": "markdown",
   "metadata": {},
   "source": [
    "For the circle representation."
   ]
  },
  {
   "cell_type": "code",
   "execution_count": null,
   "metadata": {},
   "outputs": [],
   "source": [
    "def MakeMonthArray(station,year,month):\n",
    "    mon = [\"Jan\",\"Feb\",\"Mar\",\"Apr\",\"May\",\"Jun\",\"Jul\",\"Aug\",\"Sep\",\"Oct\",\"Nov\",\"Dec\"]\n",
    "\n",
    "    # select 2018 from march to march 2019, like in the survey\n",
    "    month_series = station_list2[station_no][TimeFormat(year, month, 1 ):TimeFormat(year, month, 28)]\n",
    "    # just fold the data every 24 hours to make the (hours,week days) matrix \n",
    "    month_series_matrix = np.array([month_series[ 96*j:96*(j+1)][::-1] for j in range(int(len(month_series)/96))]).T\n",
    "    \n",
    "    return(month_series_matrix)"
   ]
  },
  {
   "cell_type": "code",
   "execution_count": null,
   "metadata": {},
   "outputs": [],
   "source": [
    "def ComputeCMandRadius(station,year,month, radius=\"Sum\",background=0):\n",
    "    # compute the monthly array of consumption\n",
    "    MonthlyArray = MakeMonthArray(station,year,month)\n",
    "\n",
    "    morning_CMs, afternoon_CMs = [], []\n",
    "    morning_means, afternoon_means = [], []\n",
    "    morning_sums, afternoon_sums = [], []\n",
    "\n",
    "    # loops over the days\n",
    "    for i in range(28):\n",
    "    \n",
    "        #-------------------- compute CM = location of circle centers --------------------\n",
    "        # lists of weights \n",
    "        mornings_day, afternoons_day = MonthlyArray[48:][:,i], MonthlyArray[:48][:,i]\n",
    "        # lists of x (positions)\n",
    "        mornings_day_x,afternons_day_x = [i for i in range(48)] , [i for i in range(48,96)] \n",
    "\n",
    "        # center of mass = sum(x*weights)/sum(weights)\n",
    "        mornings_day_CM = np.sum(mornings_day*mornings_day_x)/np.sum(mornings_day)\n",
    "        afternoons_day_CM = np.sum(afternoons_day*afternons_day_x)/np.sum(afternoons_day)\n",
    "\n",
    "        morning_CMs.append(mornings_day_CM)\n",
    "        afternoon_CMs.append(afternoons_day_CM)\n",
    "        \n",
    "        #-------------------- compute radii of circles --------------------\n",
    "        if not (-1 in mornings_day) and not (-1 in afternoons_day):\n",
    "            # with the mean energy\n",
    "            #mornings_enMean, afternoons_enMean = np.mean(mornings_day) , np.mean(afternoons_day)\n",
    "            \n",
    "            # with the cumulative sum energy\n",
    "            #mornings_enSum, afternoons_enSum = np.sum(np.array(mornings_day)-background) , np.sum(np.array(afternoons_day)-background)\n",
    "    \n",
    "            # scaled series\n",
    "            mornings_scaled, afternoons_scaled = (mornings_day-min(mornings_day))/float(max(mornings_day)-min(mornings_day)) , (afternoons_day-min(afternoons_day))/float(max(afternoons_day)-min(afternoons_day))\n",
    "            mornings_scaled_enSum, afternoons_scaled_enSum = np.sum(np.array(mornings_scaled)) , np.sum(np.array(afternoons_scaled))       \n",
    "            \n",
    "            #if i==27:\n",
    "            #   print(afternoons_day)\n",
    "            #   print(afternoons_scaled)\n",
    "        else:\n",
    "            #mornings_enMean, afternoons_enMean = 0,0\n",
    "            mornings_scaled_enSum, afternoons_scaled_enSum = 0,0        \n",
    "            \n",
    "        #morning_means.append(mornings_enMean)\n",
    "        #afternoon_means.append(afternoons_enMean)\n",
    "        morning_sums.append(mornings_scaled_enSum)\n",
    "        afternoon_sums.append(afternoons_scaled_enSum)\n",
    "                \n",
    "        # we divide by 10/1000 the mean/sum radius so that they are in an order of magnitude that makes sense\n",
    "    if radius == \"Sum\":\n",
    "        return((morning_CMs, afternoon_CMs,np.array(morning_sums)/10, np.array(afternoon_sums)/10))\n",
    "    if radius == \"Mean\":\n",
    "        return((morning_CMs, afternoon_CMs,np.array(morning_means)/10, np.array(afternoon_means)/10))"
   ]
  },
  {
   "cell_type": "code",
   "execution_count": null,
   "metadata": {},
   "outputs": [],
   "source": [
    "from matplotlib.patches import Circle\n",
    "from matplotlib.collections import PatchCollection"
   ]
  },
  {
   "cell_type": "markdown",
   "metadata": {},
   "source": [
    "Plot circles for one example"
   ]
  },
  {
   "cell_type": "code",
   "execution_count": null,
   "metadata": {},
   "outputs": [],
   "source": [
    "sns.set(style=\"ticks\", font_scale=1.2, context=\"talk\")\n",
    "sns.set_style(\"white\", {'axes.grid' : False})\n",
    "plt.rcParams['figure.figsize'] = (10, 5)\n",
    "\n",
    "# example station, year, and month; same station 0 and year 2017 as before; with the right \"background\"\n",
    "ex = ComputeCMandRadius(0,2017,1,\"Sum\",0)\n",
    "\n",
    "#### ------ Plot resulting energy circles -----------\n",
    "\n",
    "\n",
    "# x locations of the circles, being each day of the month\n",
    "x_morning , x_afternoon = 2*np.array([i for i in range(28)]), 2*np.array([i for i in range(28)])\n",
    "# y locations of the circles, being the center of mass we computed before; \n",
    "# NOTE: to have nice circles, we need to normalize the 15 minutes scale\n",
    "y_morning , y_afternoon = np.array(ex[0])*0.291, np.array(ex[1])*0.291\n",
    "# radii of the circles, as the mean of the energy\n",
    "rad_morning, rad_afternoon = ex[2], ex[3]\n",
    "\n",
    "patches_morning, patches_afternoon = [],[]\n",
    "\n",
    "# morning circles\n",
    "for x1, y1, r1 in zip(x_morning, y_morning, rad_morning):\n",
    "    circle = Circle((x1, y1), r1)\n",
    "    patches_morning.append(circle)\n",
    "\n",
    "# afternoon circles\n",
    "for x2, y2, r2 in zip(x_afternoon, y_afternoon, rad_afternoon):\n",
    "    circle = Circle(( x2, y2), r2)\n",
    "    patches_afternoon.append(circle)\n",
    "    \n",
    "# -------- -------- PLOT --------------------------------------------\n",
    "\n",
    "fig, ax = plt.subplots()\n",
    "p1 = PatchCollection(patches_morning, alpha=0.2)\n",
    "p2 = PatchCollection(patches_afternoon, alpha=0.2)\n",
    "ax.add_collection(p1)\n",
    "ax.add_collection(p2)\n",
    "ax.set_xlim([0,56])\n",
    "ax.set_ylim([0,28])\n",
    "#plt.axis('off')\n",
    "plt.savefig(\"figure.png\",dpi=300, bbox_inches=\"tight\")\n",
    "plt.show()"
   ]
  },
  {
   "cell_type": "code",
   "execution_count": null,
   "metadata": {},
   "outputs": [],
   "source": []
  },
  {
   "cell_type": "code",
   "execution_count": null,
   "metadata": {},
   "outputs": [],
   "source": []
  },
  {
   "cell_type": "code",
   "execution_count": null,
   "metadata": {},
   "outputs": [],
   "source": []
  },
  {
   "cell_type": "markdown",
   "metadata": {},
   "source": [
    "## Detection of local anomalies"
   ]
  },
  {
   "cell_type": "code",
   "execution_count": null,
   "metadata": {},
   "outputs": [],
   "source": [
    "def TimeFormat(year, month, day):\n",
    "    temp = \"\".join([str(year),\"-\",str(month),\"-\",str(day)])\n",
    "    return(temp)\n",
    "\n",
    "sns.set(style=\"ticks\", font_scale=1, context=\"talk\")\n",
    "sns.set_style(\"white\", {'axes.grid' : False})\n",
    "plt.rcParams['figure.figsize'] = (13, 2)"
   ]
  },
  {
   "cell_type": "markdown",
   "metadata": {},
   "source": [
    "Make functions to plot monthly and yearly time series for any of the two stations. "
   ]
  },
  {
   "cell_type": "code",
   "execution_count": null,
   "metadata": {},
   "outputs": [],
   "source": [
    "def PlotMonthlyTimesSeries(year_no,month_no,station=\"Aadorf\",resolution=\"15min\"):\n",
    "\n",
    "    fig=plt.figure()\n",
    "    \n",
    "    if station == \"Aadorf\":\n",
    "        station_no=0\n",
    "    elif station == \"Zuzwil\":\n",
    "        station_no=3\n",
    "    \n",
    "    station_month = station_list2[station_no][TimeFormat(year_no, month_no, 1):TimeFormat(year_no, month_no, 28 )]\n",
    "    # plot each week with the original 15 minutes resolution.\n",
    "    if resolution == \"15min\":\n",
    "        station_month.plot()\n",
    "    if resolution == \"hourly\":\n",
    "        station_month.resample('h').mean().plot()\n",
    "    if resolution == \"daily\":\n",
    "        station_month.resample('D').mean().plot()\n",
    "    ## resample by hour instead of 15 minutes\n",
    "    #station_week.resample('h').mean().plot()\n",
    "    plt.xlabel(\"Days of the month\")\n",
    "    plt.ylabel(\"Electricity demand\")\n",
    "    #plt.axis([1 + 7*i, 7*(i+1),0,24])\n",
    "    #fig.tight_layout()\n",
    "    plt.show()        "
   ]
  },
  {
   "cell_type": "code",
   "execution_count": null,
   "metadata": {},
   "outputs": [],
   "source": [
    "def PlotYearlyTimesSeries(year_no,station=\"Aadorf\",resolution=\"15min\"):\n",
    "\n",
    "    fig=plt.figure()\n",
    "    \n",
    "    if station == \"Aadorf\":\n",
    "        station_no=0\n",
    "    elif station == \"Zuzwil\":\n",
    "        station_no=3\n",
    "    \n",
    "    station_month = station_list2[station_no][TimeFormat(year_no, 1, 1):TimeFormat(year_no, 12, 28 )]\n",
    "    # plot each week with the original 15 minutes resolution.\n",
    "    if resolution == \"15min\":\n",
    "        station_month.plot()\n",
    "    if resolution == \"hourly\":\n",
    "        station_month.resample('h').mean().plot()\n",
    "    if resolution == \"daily\":\n",
    "        station_month.resample('D').mean().plot()\n",
    "    ## resample by hour instead of 15 minutes\n",
    "    #station_week.resample('h').mean().plot()\n",
    "    plt.xlabel(\"Days of the year\")\n",
    "    plt.ylabel(\"Electricity demand\")\n",
    "    #plt.axis([1 + 7*i, 7*(i+1),0,24])\n",
    "    #fig.tight_layout()\n",
    "    plt.show() "
   ]
  },
  {
   "cell_type": "markdown",
   "metadata": {},
   "source": [
    "#### Example of no issue..."
   ]
  },
  {
   "cell_type": "code",
   "execution_count": null,
   "metadata": {},
   "outputs": [],
   "source": [
    "PlotMonthlyTimesSeries(2018,1, \"Aadorf\",\"15min\")\n"
   ]
  },
  {
   "cell_type": "markdown",
   "metadata": {},
   "source": [
    "#### Examples of issues..."
   ]
  },
  {
   "cell_type": "code",
   "execution_count": null,
   "metadata": {},
   "outputs": [],
   "source": [
    "PlotMonthlyTimesSeries(2018,4, \"Aadorf\",\"15min\")"
   ]
  },
  {
   "cell_type": "markdown",
   "metadata": {},
   "source": [
    "###### These ones are good because the anomaly is at the end!"
   ]
  },
  {
   "cell_type": "code",
   "execution_count": null,
   "metadata": {},
   "outputs": [],
   "source": [
    "PlotMonthlyTimesSeries(2018,12, \"Aadorf\",\"hourly\")"
   ]
  },
  {
   "cell_type": "code",
   "execution_count": null,
   "metadata": {},
   "outputs": [],
   "source": [
    "PlotMonthlyTimesSeries(2018,12, \"Zuzwil\",\"hourly\")"
   ]
  },
  {
   "cell_type": "markdown",
   "metadata": {},
   "source": [
    "## Try to train a model, and forecast + detect anomalies"
   ]
  },
  {
   "cell_type": "markdown",
   "metadata": {},
   "source": [
    "Select one series with an anomaly: Aadorf, 2018, December, hourly aggregated. "
   ]
  },
  {
   "cell_type": "code",
   "execution_count": null,
   "metadata": {
    "scrolled": true
   },
   "outputs": [],
   "source": [
    "Aadorf_2018_dec_hourly = station_list2[0][TimeFormat(2018, 12, 1):TimeFormat(2018, 12, 28 )].resample('h').mean()\n",
    "Aadorf_2018_dec_hourly = pd.DataFrame(Aadorf_2018_dec_hourly,columns=[\"Demand\"])\n",
    "Aadorf_2018_dec_hourly"
   ]
  },
  {
   "cell_type": "markdown",
   "metadata": {},
   "source": [
    "Features: time lags! In this case we have daily period but also a monthly period! SO we need to capture that with a lot of lags..."
   ]
  },
  {
   "cell_type": "code",
   "execution_count": null,
   "metadata": {},
   "outputs": [],
   "source": [
    "# Creating a copy of the initial datagrame to make various transformations \n",
    "data = pd.DataFrame(Aadorf_2018_dec_hourly.Demand.copy())\n",
    "data.columns = [\"y\"]\n",
    "\n",
    "# Adding the lag of the target variable from 6 steps back up to 7 days * 24= 168 lags, at least \n",
    "for i in range(6, 169):\n",
    "    data[\"lag_{}\".format(i)] = data.y.shift(i)"
   ]
  },
  {
   "cell_type": "markdown",
   "metadata": {},
   "source": [
    "Features 2: hours, days of weeks, week ends etc."
   ]
  },
  {
   "cell_type": "code",
   "execution_count": null,
   "metadata": {},
   "outputs": [],
   "source": [
    "data.index = pd.to_datetime(data.index)\n",
    "data[\"hour\"] = data.index.hour\n",
    "data[\"weekday\"] = data.index.weekday\n",
    "data['is_weekend'] = data.weekday.isin([5,6])*1"
   ]
  },
  {
   "cell_type": "code",
   "execution_count": null,
   "metadata": {},
   "outputs": [],
   "source": [
    "data.shape"
   ]
  },
  {
   "cell_type": "code",
   "execution_count": null,
   "metadata": {},
   "outputs": [],
   "source": [
    "# take a look at the new dataframe \n",
    "data.tail(7)"
   ]
  },
  {
   "cell_type": "code",
   "execution_count": null,
   "metadata": {},
   "outputs": [],
   "source": [
    "# form labelled data \n",
    "ylabel = data.dropna().y\n",
    "Xlabel = data.dropna().drop(['y'], axis=1)"
   ]
  },
  {
   "cell_type": "markdown",
   "metadata": {},
   "source": [
    "Let's try an RF just for our love for them...."
   ]
  },
  {
   "cell_type": "code",
   "execution_count": null,
   "metadata": {},
   "outputs": [],
   "source": [
    "from TrainingMethods188 import CustomRF"
   ]
  },
  {
   "cell_type": "code",
   "execution_count": null,
   "metadata": {},
   "outputs": [],
   "source": [
    "rf,rmse,RRMSE, oob = CustomRF(Xlabel,ylabel).Fast_TrainAndTest(300,100,20)"
   ]
  },
  {
   "cell_type": "code",
   "execution_count": null,
   "metadata": {},
   "outputs": [],
   "source": [
    "rf,rmse,RRMSE, oob = CustomRF(Xlabel,ylabel).Fast_TrainAndTest(300,1,3)"
   ]
  },
  {
   "cell_type": "code",
   "execution_count": null,
   "metadata": {},
   "outputs": [],
   "source": [
    "# form labelled data \n",
    "#ylabel = data.dropna().y\n",
    "#Xlabel = data.dropna().drop(['y'], axis=1)\n",
    "\n",
    "#rf,rmse,RRMSE, oob = CustomRF(Xlabel,ylabel).Fast_TrainAndTest(300,1,3)\n",
    "\n",
    "# reform ytest and Xtest just to see how close the predictions are. \n",
    "ytest = ylabel[int(0.25*len(ylabel)):]\n",
    "Xtest = Xlabel[int(0.25*len(ylabel)):]\n",
    "\n",
    "# predict on the test set \n",
    "ypred0 = rf.predict(Xtest)\n",
    "ypred = pd.Series(ypred0,index = ytest.index)\n",
    "\n",
    "# plot \n",
    "plt.figure()\n",
    "plt.plot(ytest,\"g\",label=\"Observed\")\n",
    "plt.plot(ypred,\"r\",label=\"RF predicted\")\n",
    "plt.title(\"nRMSE {0:.2f}%\".format(100*RRMSE))\n",
    "plt.legend(loc=\"upper left\")\n",
    "plt.show()"
   ]
  },
  {
   "cell_type": "code",
   "execution_count": null,
   "metadata": {},
   "outputs": [],
   "source": [
    "# reform ytest and Xtest just to see how close the predictions are. \n",
    "ytest = ylabel[int(0.5*len(ylabel)):]\n",
    "Xtest = Xlabel[int(0.5*len(ylabel)):]\n",
    "\n",
    "# predict on the test set \n",
    "ypred0 = rf.predict(Xtest)\n",
    "ypred = pd.Series(ypred0,index = ytest.index)\n",
    "\n",
    "# plot \n",
    "plt.figure()\n",
    "plt.plot(ytest,\"g\",label=\"Observed\")\n",
    "plt.plot(ypred,\"r\",label=\"RF predicted\")\n",
    "plt.title(\"nRMSE {0:.2f}%\".format(100*RRMSE))\n",
    "plt.legend(loc=\"upper left\")\n",
    "plt.show()"
   ]
  },
  {
   "cell_type": "markdown",
   "metadata": {},
   "source": [
    "Well, we kind of detect anomalies already! It captures well the week seansonality. \n",
    "\n",
    "The prediction of sunday is well different and the next tuesday and wednesday are indeed well seen as strange as well... "
   ]
  },
  {
   "cell_type": "code",
   "execution_count": null,
   "metadata": {},
   "outputs": [],
   "source": []
  },
  {
   "cell_type": "code",
   "execution_count": null,
   "metadata": {},
   "outputs": [],
   "source": []
  }
 ],
 "metadata": {
  "kernelspec": {
   "display_name": "py3",
   "language": "python",
   "name": "py3"
  },
  "language_info": {
   "codemirror_mode": {
    "name": "ipython",
    "version": 3
   },
   "file_extension": ".py",
   "mimetype": "text/x-python",
   "name": "python",
   "nbconvert_exporter": "python",
   "pygments_lexer": "ipython3",
   "version": "3.6.7"
  }
 },
 "nbformat": 4,
 "nbformat_minor": 1
}
