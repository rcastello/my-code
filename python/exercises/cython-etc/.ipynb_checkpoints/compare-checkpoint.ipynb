{
 "cells": [
  {
   "cell_type": "code",
   "execution_count": 1,
   "metadata": {
    "autoscroll": false,
    "ein.tags": "worksheet-0",
    "slideshow": {
     "slide_type": "-"
    }
   },
   "outputs": [
    {
     "data": {
      "text/html": [
       "<style>.container { width:100% !important; }</style>"
      ],
      "text/plain": [
       "<IPython.core.display.HTML object>"
      ]
     },
     "metadata": {},
     "output_type": "display_data"
    }
   ],
   "source": [
    "import matplotlib.pyplot as plt\n",
    "%matplotlib inline\n",
    "from IPython.core.display import display, HTML\n",
    "display(HTML(\"<style>.container { width:100% !important; }</style>\"))"
   ]
  },
  {
   "cell_type": "markdown",
   "metadata": {
    "ein.tags": "worksheet-0",
    "slideshow": {
     "slide_type": "-"
    }
   },
   "source": [
    "# Making Python run at the speed of light (C)."
   ]
  },
  {
   "cell_type": "markdown",
   "metadata": {
    "ein.tags": "worksheet-0",
    "slideshow": {
     "slide_type": "-"
    }
   },
   "source": [
    "We will compare different approaches to writing efficient numerical codes in Python. Our first guinea-pig function will calculate triangular numbers:"
   ]
  },
  {
   "cell_type": "code",
   "execution_count": 2,
   "metadata": {
    "autoscroll": false,
    "ein.tags": "worksheet-0",
    "slideshow": {
     "slide_type": "-"
    }
   },
   "outputs": [],
   "source": [
    "def triangle_constant_python(n):\n",
    "    return n * (n + 1) // 2"
   ]
  },
  {
   "cell_type": "markdown",
   "metadata": {
    "ein.tags": "worksheet-0",
    "slideshow": {
     "slide_type": "-"
    }
   },
   "source": [
    "but, as we want a function which burns a few more CPU cycles, we'll pretend that we do not know that this analytical form exists, and we will sum consecutive integers instead.\n",
    "\n",
    "## Pure Python"
   ]
  },
  {
   "cell_type": "code",
   "execution_count": 3,
   "metadata": {
    "autoscroll": false,
    "ein.tags": "worksheet-0",
    "slideshow": {
     "slide_type": "-"
    }
   },
   "outputs": [],
   "source": [
    "def triangle_linear_python(n):\n",
    "    total = 0\n",
    "    for m in range(1,n+1):\n",
    "        total += m\n",
    "    return total\n"
   ]
  },
  {
   "cell_type": "markdown",
   "metadata": {
    "ein.tags": "worksheet-0",
    "slideshow": {
     "slide_type": "-"
    }
   },
   "source": [
    "We confirm that the two implementations give identical results:"
   ]
  },
  {
   "cell_type": "code",
   "execution_count": 4,
   "metadata": {
    "autoscroll": false,
    "ein.tags": "worksheet-0",
    "slideshow": {
     "slide_type": "-"
    }
   },
   "outputs": [
    {
     "data": {
      "text/plain": [
       "'OK'"
      ]
     },
     "execution_count": 4,
     "metadata": {},
     "output_type": "execute_result"
    }
   ],
   "source": [
    "for n in range(50):\n",
    "    assert triangle_constant_python(n) == triangle_linear_python(n)\n",
    "'OK'"
   ]
  },
  {
   "cell_type": "markdown",
   "metadata": {
    "ein.tags": "worksheet-0",
    "slideshow": {
     "slide_type": "-"
    }
   },
   "source": [
    "## Numba\n",
    "\n",
    "[Numba](https://numba.pydata.org/) is one tool which provides a very convenient way of dramatically improving the performance of numerical Python code.\n",
    "\n",
    "Using it can be as simple as importing `jit` and applying it to a pure-Python function. You would typically apply it to the function definition using the decorator syntax\n",
    "\n",
    "    @jit\n",
    "    def fn(...):\n",
    "        ...\n",
    "        \n",
    "but in this case we want to keep the unoptimized version around in order to compare performance, so instead we apply `numba.jit` like this:"
   ]
  },
  {
   "cell_type": "code",
   "execution_count": 5,
   "metadata": {
    "autoscroll": false,
    "ein.tags": "worksheet-0",
    "slideshow": {
     "slide_type": "-"
    }
   },
   "outputs": [],
   "source": [
    "from numba import jit\n",
    "triangle_linear_numba = jit(triangle_linear_python)"
   ]
  },
  {
   "cell_type": "markdown",
   "metadata": {
    "ein.tags": "worksheet-0",
    "slideshow": {
     "slide_type": "-"
    }
   },
   "source": [
    "## Cython\n",
    "\n",
    "[Cython](http://cython.org/) is another tool that enjoys much success in this area.\n",
    "\n",
    "Cython extends the syntax of Python, to allow, among other things, type declarations. Consequently, functions which you want to cythonize cannot remain in standard `.py` files and must be moved into files with the extension `.pyx`.\n",
    "\n",
    "Fortunately for us, the `Cython` extension available in Jupyter notebooks allows us to define Cython functions in the notebook itself. Once the extension has been loaded ..."
   ]
  },
  {
   "cell_type": "code",
   "execution_count": 6,
   "metadata": {
    "autoscroll": false,
    "ein.tags": "worksheet-0",
    "slideshow": {
     "slide_type": "-"
    }
   },
   "outputs": [],
   "source": [
    "%load_ext Cython"
   ]
  },
  {
   "cell_type": "markdown",
   "metadata": {
    "ein.tags": "worksheet-0",
    "slideshow": {
     "slide_type": "-"
    }
   },
   "source": [
    "... we can define a Cython function in a `cython` cell magic:"
   ]
  },
  {
   "cell_type": "code",
   "execution_count": 7,
   "metadata": {
    "autoscroll": false,
    "ein.tags": "worksheet-0",
    "slideshow": {
     "slide_type": "-"
    }
   },
   "outputs": [],
   "source": [
    "%%cython\n",
    "\n",
    "cpdef int triangle_linear_cython(int n):\n",
    "\n",
    "    cdef int total = 0\n",
    "    cdef int m\n",
    "    for m in range(1, n+1):\n",
    "        total += m\n",
    "    return total"
   ]
  },
  {
   "cell_type": "markdown",
   "metadata": {
    "ein.tags": "worksheet-0",
    "slideshow": {
     "slide_type": "-"
    }
   },
   "source": [
    "Note the changes with respect to standard Python syntax:\n",
    "\n",
    "+ the function's return type was declared, using a syntax similar to that of C,\n",
    "+ the function's parameter type was declared,\n",
    "+ the function's local variable types were declared,\n",
    "+ `cpdef` was used instead of `def`. Cython does understand `def` but `cpdef` (or `cdef`, if the function does not need to be called from Python directly) must be used in functions which declare the return type"
   ]
  },
  {
   "cell_type": "markdown",
   "metadata": {
    "ein.tags": "worksheet-0",
    "slideshow": {
     "slide_type": "-"
    }
   },
   "source": [
    "Now that we have defined these different implementations, let's compare their performances.\n",
    "\n",
    "To simplify comparing different implementations of equivalent functions, we will use the following helper class."
   ]
  },
  {
   "cell_type": "code",
   "execution_count": 8,
   "metadata": {
    "autoscroll": false,
    "ein.tags": "worksheet-0",
    "slideshow": {
     "slide_type": "-"
    }
   },
   "outputs": [],
   "source": [
    "from operator import attrgetter, itemgetter, eq\n",
    "import pandas as pd\n",
    "from itertools import cycle, islice\n",
    "\n",
    "class CompareImplementations:\n",
    "    \n",
    "    def __init__(self, equivalence=eq):\n",
    "        self._functions = {}\n",
    "        self._compare = equivalence\n",
    "        \n",
    "    def register_functions(self, *data):\n",
    "        it = iter(data)\n",
    "        for label in it:\n",
    "            self._functions[label] = next(it)\n",
    "        \n",
    "    def time_single_input(self, *args):\n",
    "        self._timings = {}\n",
    "        padding = len(max(self._functions, key=len)) + 2\n",
    "        for label, fn in self._functions.items():\n",
    "            # The next line uses Jupyter's %timeit magic. This cannot work in pure Python!\n",
    "            print(f'{label:{padding}}', end='')\n",
    "            timeit_result = %timeit -o -r 3 fn(*args)\n",
    "            self._timings[label] = timeit_result\n",
    "        return pd.Series({label: t.best for label, t in self._timings.items()})\n",
    "\n",
    "    def speeds_single_input(self, *args):\n",
    "        series = self.time_single_input(*args)\n",
    "        normalized = series.max() / series\n",
    "        return normalized.sort_values()\n",
    "\n",
    "    def check_equivalence(self, *args, **kwds):\n",
    "        results = [ (label, fn(*args, **kwds)) for label, fn in self._functions.items() ]\n",
    "        (first_label, first_result), *rest = results\n",
    "        for label, result in rest:\n",
    "            if not self._compare(result, first_result):\n",
    "                raise AssertionError(f'{first_label} returned {first_result} but {label} returned {result}')\n",
    "        return True\n",
    "\n",
    "    def time_many_inputs(self, inputs):\n",
    "        data = {}\n",
    "        print(''.join(islice(cycle('TODO-'), len(inputs) * len(self._functions))))\n",
    "        done = cycle('DONE-')\n",
    "        for label, fn in self._functions.items():\n",
    "            timings = {}\n",
    "            for arg in inputs:\n",
    "                timeit_result = %timeit -o -q -r 3 -n 10000 fn(arg)\n",
    "                #timeit_result = %timeit -o -q -r 3  fn(arg)\n",
    "                timings[arg] = timeit_result.best\n",
    "                print(next(done), end='', flush=True)\n",
    "            data[label] = timings\n",
    "        return pd.DataFrame.from_dict(data)\n",
    "\n",
    "def tabulate_all_normalizations(series):\n",
    "    return pd.DataFrame.from_items(( (i, series / series[i]) for i in series.sort_values().index ))"
   ]
  },
  {
   "cell_type": "markdown",
   "metadata": {
    "ein.tags": "worksheet-0",
    "slideshow": {
     "slide_type": "-"
    }
   },
   "source": [
    "We register the functions we want to compare:"
   ]
  },
  {
   "cell_type": "code",
   "execution_count": 9,
   "metadata": {
    "autoscroll": false,
    "ein.tags": "worksheet-0",
    "slideshow": {
     "slide_type": "-"
    }
   },
   "outputs": [],
   "source": [
    "triangle_linear_compare = CompareImplementations()\n",
    "triangle_linear_compare.register_functions('Python', triangle_linear_python,\n",
    "                                           'Numba' , triangle_linear_numba,\n",
    "                                           'Cython', triangle_linear_cython,\n",
    "                                           'Smart' , triangle_constant_python)"
   ]
  },
  {
   "cell_type": "markdown",
   "metadata": {
    "ein.tags": "worksheet-0",
    "slideshow": {
     "slide_type": "-"
    }
   },
   "source": [
    "verify that the functions agree on the result"
   ]
  },
  {
   "cell_type": "code",
   "execution_count": 10,
   "metadata": {
    "autoscroll": false,
    "ein.tags": "worksheet-0",
    "slideshow": {
     "slide_type": "-"
    }
   },
   "outputs": [
    {
     "data": {
      "text/plain": [
       "True"
      ]
     },
     "execution_count": 10,
     "metadata": {},
     "output_type": "execute_result"
    }
   ],
   "source": [
    "all(triangle_linear_compare.check_equivalence(n) for n in range(1001))"
   ]
  },
  {
   "cell_type": "markdown",
   "metadata": {
    "ein.tags": "worksheet-0",
    "slideshow": {
     "slide_type": "-"
    }
   },
   "source": [
    "and measure the performances"
   ]
  },
  {
   "cell_type": "code",
   "execution_count": 11,
   "metadata": {
    "autoscroll": false,
    "ein.tags": "worksheet-0",
    "slideshow": {
     "slide_type": "-"
    }
   },
   "outputs": [
    {
     "name": "stdout",
     "output_type": "stream",
     "text": [
      "Python  48.5 µs ± 844 ns per loop (mean ± std. dev. of 3 runs, 10000 loops each)\n",
      "Numba   198 ns ± 0.259 ns per loop (mean ± std. dev. of 3 runs, 10000000 loops each)\n",
      "Cython  205 ns ± 2.39 ns per loop (mean ± std. dev. of 3 runs, 1000000 loops each)\n",
      "Smart   195 ns ± 0.139 ns per loop (mean ± std. dev. of 3 runs, 10000000 loops each)\n"
     ]
    },
    {
     "data": {
      "text/plain": [
       "Python      1.000000\n",
       "Cython    235.666804\n",
       "Numba     241.219286\n",
       "Smart     244.938837\n",
       "dtype: float64"
      ]
     },
     "execution_count": 11,
     "metadata": {},
     "output_type": "execute_result"
    }
   ],
   "source": [
    "triangle_linear_compare.speeds_single_input(1000)"
   ]
  },
  {
   "cell_type": "markdown",
   "metadata": {
    "ein.tags": "worksheet-0",
    "slideshow": {
     "slide_type": "-"
    }
   },
   "source": [
    "The immediate conclusion would be that both Numba and Cython manage to speed up the fuction by a factor of approximately 200.\n",
    "\n",
    "It is important to note that we will observe different speedups for different problems (as we shall see further on), so don't take these timings to be fully representative of the capabilities of these tools.\n",
    "\n",
    "Also note that the *unaccelerated* pure-Python function which calculates the answer analytically, outperforms both the Numba and Cython versions. Let this serve as a eminder that it is important to understand whether one has the best algorithm for the job, rather than merely trying to get the current algorithm to execute more quickly: Numba, Cython, rewriting it in C ... all these approaches can only ever give a constant factor of speedup; finding a better algorithm can have a much more significant impact on performance than expressing a poor algorithm in a lower-level language!\n",
    "\n",
    "To emphasize this last point, let's have a look at a graph of timings for various inputs (where a surprise awaits):"
   ]
  },
  {
   "cell_type": "code",
   "execution_count": 12,
   "metadata": {
    "autoscroll": false,
    "ein.tags": "worksheet-0",
    "slideshow": {
     "slide_type": "-"
    }
   },
   "outputs": [
    {
     "name": "stdout",
     "output_type": "stream",
     "text": [
      "TODO-TODO-TODO-TODO-TODO-TODO-TODO-T\n",
      "DONE-DONE-DONE-DONE-DONE-DONE-DONE-D"
     ]
    }
   ],
   "source": [
    "x = triangle_linear_compare.time_many_inputs((10, 50, 100, 300, 500, 800, 1000, 1250, 1500))"
   ]
  },
  {
   "cell_type": "markdown",
   "metadata": {
    "ein.tags": "worksheet-0",
    "slideshow": {
     "slide_type": "-"
    }
   },
   "source": [
    "Let's look at the results renormalized with repsect to the fastest run:"
   ]
  },
  {
   "cell_type": "code",
   "execution_count": 13,
   "metadata": {
    "autoscroll": false,
    "ein.tags": "worksheet-0",
    "slideshow": {
     "slide_type": "-"
    }
   },
   "outputs": [
    {
     "data": {
      "text/html": [
       "<div>\n",
       "<style scoped>\n",
       "    .dataframe tbody tr th:only-of-type {\n",
       "        vertical-align: middle;\n",
       "    }\n",
       "\n",
       "    .dataframe tbody tr th {\n",
       "        vertical-align: top;\n",
       "    }\n",
       "\n",
       "    .dataframe thead th {\n",
       "        text-align: right;\n",
       "    }\n",
       "</style>\n",
       "<table border=\"1\" class=\"dataframe\">\n",
       "  <thead>\n",
       "    <tr style=\"text-align: right;\">\n",
       "      <th></th>\n",
       "      <th>Cython</th>\n",
       "      <th>Numba</th>\n",
       "      <th>Python</th>\n",
       "      <th>Smart</th>\n",
       "    </tr>\n",
       "  </thead>\n",
       "  <tbody>\n",
       "    <tr>\n",
       "      <th>10</th>\n",
       "      <td>1.000000</td>\n",
       "      <td>3.152511</td>\n",
       "      <td>15.044018</td>\n",
       "      <td>2.148467</td>\n",
       "    </tr>\n",
       "    <tr>\n",
       "      <th>50</th>\n",
       "      <td>1.305437</td>\n",
       "      <td>3.547731</td>\n",
       "      <td>34.514572</td>\n",
       "      <td>2.669298</td>\n",
       "    </tr>\n",
       "    <tr>\n",
       "      <th>100</th>\n",
       "      <td>1.381895</td>\n",
       "      <td>3.431766</td>\n",
       "      <td>57.960956</td>\n",
       "      <td>2.669926</td>\n",
       "    </tr>\n",
       "    <tr>\n",
       "      <th>300</th>\n",
       "      <td>1.888643</td>\n",
       "      <td>3.502081</td>\n",
       "      <td>185.970871</td>\n",
       "      <td>2.855213</td>\n",
       "    </tr>\n",
       "    <tr>\n",
       "      <th>500</th>\n",
       "      <td>2.372166</td>\n",
       "      <td>3.586880</td>\n",
       "      <td>336.084362</td>\n",
       "      <td>2.846375</td>\n",
       "    </tr>\n",
       "    <tr>\n",
       "      <th>800</th>\n",
       "      <td>2.920748</td>\n",
       "      <td>3.432636</td>\n",
       "      <td>573.503817</td>\n",
       "      <td>2.871774</td>\n",
       "    </tr>\n",
       "    <tr>\n",
       "      <th>1000</th>\n",
       "      <td>3.289278</td>\n",
       "      <td>3.598694</td>\n",
       "      <td>711.115255</td>\n",
       "      <td>2.706787</td>\n",
       "    </tr>\n",
       "    <tr>\n",
       "      <th>1250</th>\n",
       "      <td>3.665659</td>\n",
       "      <td>3.584696</td>\n",
       "      <td>920.283259</td>\n",
       "      <td>2.781287</td>\n",
       "    </tr>\n",
       "    <tr>\n",
       "      <th>1500</th>\n",
       "      <td>4.028809</td>\n",
       "      <td>3.447945</td>\n",
       "      <td>1111.388973</td>\n",
       "      <td>2.832664</td>\n",
       "    </tr>\n",
       "  </tbody>\n",
       "</table>\n",
       "</div>"
      ],
      "text/plain": [
       "        Cython     Numba       Python     Smart\n",
       "10    1.000000  3.152511    15.044018  2.148467\n",
       "50    1.305437  3.547731    34.514572  2.669298\n",
       "100   1.381895  3.431766    57.960956  2.669926\n",
       "300   1.888643  3.502081   185.970871  2.855213\n",
       "500   2.372166  3.586880   336.084362  2.846375\n",
       "800   2.920748  3.432636   573.503817  2.871774\n",
       "1000  3.289278  3.598694   711.115255  2.706787\n",
       "1250  3.665659  3.584696   920.283259  2.781287\n",
       "1500  4.028809  3.447945  1111.388973  2.832664"
      ]
     },
     "execution_count": 13,
     "metadata": {},
     "output_type": "execute_result"
    }
   ],
   "source": [
    "table = (x / x.min().min())\n",
    "table"
   ]
  },
  {
   "cell_type": "markdown",
   "metadata": {
    "ein.tags": "worksheet-0",
    "slideshow": {
     "slide_type": "-"
    }
   },
   "source": [
    "and also display them graphically"
   ]
  },
  {
   "cell_type": "code",
   "execution_count": 14,
   "metadata": {
    "autoscroll": false,
    "ein.tags": "worksheet-0",
    "slideshow": {
     "slide_type": "-"
    }
   },
   "outputs": [
    {
     "data": {
      "text/plain": [
       "<matplotlib.axes._subplots.AxesSubplot at 0x7f81c1d54c18>"
      ]
     },
     "execution_count": 14,
     "metadata": {},
     "output_type": "execute_result"
    },
    {
     "data": {
      "image/png": "[encoded data removed]",
      "text/plain": [
       "<matplotlib.figure.Figure at 0x7f81c1d54630>"
      ]
     },
     "metadata": {},
     "output_type": "display_data"
    }
   ],
   "source": [
    "table.plot()"
   ]
  },
  {
   "cell_type": "markdown",
   "metadata": {
    "ein.tags": "worksheet-0",
    "slideshow": {
     "slide_type": "-"
    }
   },
   "source": [
    "The pure-Python function dominates this graph, squashing the others, so let's create another graph without it:"
   ]
  },
  {
   "cell_type": "code",
   "execution_count": 15,
   "metadata": {
    "autoscroll": false,
    "ein.tags": "worksheet-0",
    "slideshow": {
     "slide_type": "-"
    }
   },
   "outputs": [
    {
     "data": {
      "text/plain": [
       "<matplotlib.axes._subplots.AxesSubplot at 0x7f81c1dff4e0>"
      ]
     },
     "execution_count": 15,
     "metadata": {},
     "output_type": "execute_result"
    },
    {
     "data": {
      "image/png": "[encoded data removed]",
      "text/plain": [
       "<matplotlib.figure.Figure at 0x7f81b9e880b8>"
      ]
     },
     "metadata": {},
     "output_type": "display_data"
    }
   ],
   "source": [
    "del table['Python']\n",
    "table.plot(ylim=(0, None))"
   ]
  },
  {
   "cell_type": "markdown",
   "metadata": {
    "ein.tags": "worksheet-0",
    "slideshow": {
     "slide_type": "-"
    }
   },
   "source": [
    "Now it becomes clear that Numba has managed to optimize the linear algorithm into a constant-time one!\n",
    "\n",
    "A further surprise is that the Numba version of the constant-time algorithm is slower that the pure-Python one.\n",
    "\n",
    "Let's investigate this a bit more, by explicitly applying Numba and Cython to the constant-time Python implementation."
   ]
  },
  {
   "cell_type": "code",
   "execution_count": 16,
   "metadata": {
    "autoscroll": false,
    "ein.tags": "worksheet-0",
    "slideshow": {
     "slide_type": "-"
    }
   },
   "outputs": [],
   "source": [
    "triangle_constant_numba = jit(triangle_constant_python)"
   ]
  },
  {
   "cell_type": "markdown",
   "metadata": {
    "ein.tags": "worksheet-0",
    "slideshow": {
     "slide_type": "-"
    }
   },
   "source": [
    "Numba is a specializing compiler, which means that it will produce different compiled versions of a function for different input types. When a numba function is called, it must inspect the argument types and dispatch to the low-level implementation relevant to those types. It turns out that the cost of this dispatch process is significant on the time scale on which `triangle_constant_*` runs.\n",
    "\n",
    "We can bypass the dispatch process, by acquiring the relevant implementation explicitly, and calling it directly. Before we can acquire it, it must first exist. To ensure that it does exist, we trigger the `jit` compiler into action by calling the function with the relevant type:"
   ]
  },
  {
   "cell_type": "code",
   "execution_count": 17,
   "metadata": {
    "autoscroll": false,
    "ein.tags": "worksheet-0",
    "slideshow": {
     "slide_type": "-"
    }
   },
   "outputs": [],
   "source": [
    "import numba\n",
    "triangle_constant_numba(n) # Force Numba jit to compile by running the function\n",
    "triangle_constant_numba_i64 = triangle_constant_numba.get_overload((numba.int64,))"
   ]
  },
  {
   "cell_type": "code",
   "execution_count": 18,
   "metadata": {
    "autoscroll": false,
    "ein.tags": "worksheet-0",
    "slideshow": {
     "slide_type": "-"
    }
   },
   "outputs": [],
   "source": [
    "%%cython\n",
    "\n",
    "cpdef int triangle_constant_cython(int n):\n",
    "    return n * (n + 1) // 2"
   ]
  },
  {
   "cell_type": "code",
   "execution_count": 19,
   "metadata": {
    "autoscroll": false,
    "ein.tags": "worksheet-0",
    "slideshow": {
     "slide_type": "-"
    }
   },
   "outputs": [
    {
     "data": {
      "text/plain": [
       "True"
      ]
     },
     "execution_count": 19,
     "metadata": {},
     "output_type": "execute_result"
    }
   ],
   "source": [
    "triangle_constant_compare = CompareImplementations()\n",
    "triangle_constant_compare.register_functions('Python' , triangle_constant_python,\n",
    "                                             'Cython' , triangle_constant_cython,\n",
    "                                             'Numba'  , triangle_constant_numba,\n",
    "                                             'Numba64', triangle_constant_numba_i64)\n",
    "\n",
    "all(triangle_constant_compare.check_equivalence(n) for n in range(1001))"
   ]
  },
  {
   "cell_type": "code",
   "execution_count": 20,
   "metadata": {
    "autoscroll": false,
    "ein.tags": "worksheet-0",
    "slideshow": {
     "slide_type": "-"
    }
   },
   "outputs": [
    {
     "name": "stdout",
     "output_type": "stream",
     "text": [
      "Python   204 ns ± 7.14 ns per loop (mean ± std. dev. of 3 runs, 1000000 loops each)\n",
      "Cython   74 ns ± 2.15 ns per loop (mean ± std. dev. of 3 runs, 10000000 loops each)\n",
      "Numba    198 ns ± 0.102 ns per loop (mean ± std. dev. of 3 runs, 10000000 loops each)\n",
      "Numba64  81.7 ns ± 0.159 ns per loop (mean ± std. dev. of 3 runs, 10000000 loops each)\n"
     ]
    }
   ],
   "source": [
    "triangle_constant_compare.speeds_single_input(1000);"
   ]
  },
  {
   "cell_type": "code",
   "execution_count": 21,
   "metadata": {
    "autoscroll": false,
    "ein.tags": "worksheet-0",
    "slideshow": {
     "slide_type": "-"
    }
   },
   "outputs": [
    {
     "name": "stdout",
     "output_type": "stream",
     "text": [
      "TODO-TODO-TODO-TODO-TODO-TODO-TODO-T\n",
      "DONE-DONE-DONE-DONE-DONE-DONE-DONE-D"
     ]
    },
    {
     "data": {
      "text/plain": [
       "Numba      0.866322\n",
       "Python     1.000000\n",
       "Numba64    1.589365\n",
       "Cython     2.371468\n",
       "dtype: float64"
      ]
     },
     "execution_count": 21,
     "metadata": {},
     "output_type": "execute_result"
    },
    {
     "data": {
      "image/png": "[encoded data removed]",
      "text/plain": [
       "<matplotlib.figure.Figure at 0x7f81b9d43a20>"
      ]
     },
     "metadata": {},
     "output_type": "display_data"
    }
   ],
   "source": [
    "y = triangle_constant_compare.time_many_inputs((10, 50, 100, 300, 500, 800, 1000, 1250, 1500))\n",
    "table2 = (y / y.mean().min())\n",
    "table2.plot(ylim=(0, None))\n",
    "x = table2.mean()\n",
    "(x.Python / x).sort_values()"
   ]
  },
  {
   "cell_type": "markdown",
   "metadata": {
    "ein.tags": "worksheet-0",
    "slideshow": {
     "slide_type": "-"
    }
   },
   "source": [
    "Cython gives us a factor of about two, but Numba's type dispatch actually slows down the function. Avoiding Numba's type dispatch allows us to approach Cython's performance.\n",
    "\n",
    "Conclusion: for such simple functions, we do not stand to gain much. "
   ]
  },
  {
   "cell_type": "markdown",
   "metadata": {
    "ein.tags": "worksheet-0",
    "slideshow": {
     "slide_type": "-"
    }
   },
   "source": [
    "## Introducing Numpy"
   ]
  },
  {
   "cell_type": "markdown",
   "metadata": {
    "ein.tags": "worksheet-0",
    "slideshow": {
     "slide_type": "-"
    }
   },
   "source": [
    "Our next example will demonstrate how BLAH BLAH BLAH"
   ]
  },
  {
   "cell_type": "code",
   "execution_count": 22,
   "metadata": {
    "autoscroll": false,
    "ein.tags": "worksheet-0",
    "slideshow": {
     "slide_type": "-"
    }
   },
   "outputs": [
    {
     "data": {
      "image/png": "[encoded data removed]",
      "text/plain": [
       "<matplotlib.figure.Figure at 0x7f81b9d5cef0>"
      ]
     },
     "metadata": {},
     "output_type": "display_data"
    }
   ],
   "source": [
    "import numpy as np\n",
    "\n",
    "mu, sigma = 175, 10\n",
    "gaussian = np.random.normal(loc=mu, scale=sigma, size=10000)\n",
    "plt.hist(gaussian, bins=30, normed=True);"
   ]
  },
  {
   "cell_type": "code",
   "execution_count": 23,
   "metadata": {
    "autoscroll": false,
    "ein.tags": "worksheet-0",
    "slideshow": {
     "slide_type": "-"
    }
   },
   "outputs": [],
   "source": [
    "def array_mean_python(array):\n",
    "    total = 0\n",
    "    for value in array:\n",
    "        total += value\n",
    "    return total / len(array)"
   ]
  },
  {
   "cell_type": "code",
   "execution_count": 24,
   "metadata": {
    "autoscroll": false,
    "ein.tags": "worksheet-0",
    "slideshow": {
     "slide_type": "-"
    }
   },
   "outputs": [],
   "source": [
    "array_mean_numba = jit(array_mean_python)"
   ]
  },
  {
   "cell_type": "code",
   "execution_count": 25,
   "metadata": {
    "autoscroll": false,
    "ein.tags": "worksheet-0",
    "slideshow": {
     "slide_type": "-"
    }
   },
   "outputs": [],
   "source": [
    "%%cython\n",
    "\n",
    "cpdef double array_mean_cython(double [:] array):\n",
    "    cdef double total = 0\n",
    "    for value in array:\n",
    "        total += value\n",
    "    return total / len(array)"
   ]
  },
  {
   "cell_type": "code",
   "execution_count": 26,
   "metadata": {
    "autoscroll": false,
    "ein.tags": "worksheet-0",
    "slideshow": {
     "slide_type": "-"
    }
   },
   "outputs": [],
   "source": [
    "%%cython\n",
    "\n",
    "cpdef double array_mean_cython_loop(double [:] array):\n",
    "    cdef double total = 0\n",
    "    cdef int    length = len(array)\n",
    "    cdef int    i\n",
    "    for i in range(length):\n",
    "        total += array[i]\n",
    "    return total / len(array)"
   ]
  },
  {
   "cell_type": "code",
   "execution_count": 27,
   "metadata": {
    "autoscroll": false,
    "ein.tags": "worksheet-0",
    "slideshow": {
     "slide_type": "-"
    }
   },
   "outputs": [
    {
     "name": "stdout",
     "output_type": "stream",
     "text": [
      "Naive Python  1.05 ms ± 10.7 µs per loop (mean ± std. dev. of 3 runs, 1000 loops each)\n",
      "Naive Numba   9.84 µs ± 19.5 ns per loop (mean ± std. dev. of 3 runs, 100000 loops each)\n",
      "Naive Cython  2.08 ms ± 71.6 µs per loop (mean ± std. dev. of 3 runs, 1000 loops each)\n",
      "Cython Loop   10.5 µs ± 60.9 ns per loop (mean ± std. dev. of 3 runs, 100000 loops each)\n",
      "Numpy         16.2 µs ± 62.7 ns per loop (mean ± std. dev. of 3 runs, 100000 loops each)\n"
     ]
    },
    {
     "data": {
      "text/plain": [
       "Naive Cython      0.512530\n",
       "Naive Python      1.000000\n",
       "Numpy            64.410127\n",
       "Cython Loop      99.239593\n",
       "Naive Numba     105.794568\n",
       "dtype: float64"
      ]
     },
     "execution_count": 27,
     "metadata": {},
     "output_type": "execute_result"
    }
   ],
   "source": [
    "import pytest\n",
    "array_mean_compare = CompareImplementations(equivalence = pytest.approx)\n",
    "array_mean_compare.register_functions('Naive Python', array_mean_python,\n",
    "                                      'Naive Numba' , array_mean_numba,\n",
    "                                      'Naive Cython', array_mean_cython,\n",
    "                                      'Cython Loop' , array_mean_cython_loop,\n",
    "                                      'Numpy'       , np.mean)\n",
    "array_mean_compare.check_equivalence(gaussian)\n",
    "x = array_mean_compare.speeds_single_input(gaussian)\n",
    "x / x['Naive Python']"
   ]
  },
  {
   "cell_type": "markdown",
   "metadata": {
    "ein.tags": "worksheet-0",
    "slideshow": {
     "slide_type": "-"
    }
   },
   "source": [
    "# JJ's example"
   ]
  },
  {
   "cell_type": "markdown",
   "metadata": {
    "ein.tags": "worksheet-0",
    "slideshow": {
     "slide_type": "-"
    }
   },
   "source": [
    "The input data:"
   ]
  },
  {
   "cell_type": "code",
   "execution_count": 28,
   "metadata": {
    "autoscroll": false,
    "ein.tags": "worksheet-0",
    "slideshow": {
     "slide_type": "-"
    }
   },
   "outputs": [],
   "source": [
    "nsipm = 40\n",
    "wfl = 1000\n",
    "sipm = np.zeros(nsipm * wfl, dtype=np.int16)\n",
    "sipm = np.reshape(sipm,(nsipm,wfl))\n",
    "for i in range(nsipm):\n",
    "    sipm[i,:] = np.random.normal(100+i*10, 1, wfl)\n",
    "\n",
    "adc_to_pes = np.abs(np.random.normal(1, 0.01, nsipm))"
   ]
  },
  {
   "cell_type": "code",
   "execution_count": 29,
   "metadata": {
    "autoscroll": false,
    "ein.tags": "worksheet-0",
    "slideshow": {
     "slide_type": "-"
    }
   },
   "outputs": [],
   "source": [
    "def subtract_baseline_and_normalize_python(sipm, adc_to_pes):\n",
    "    \n",
    "    NSiPM = sipm.shape[0]\n",
    "    NSiWF = sipm.shape[1]\n",
    "    siwf  = np.zeros((NSiPM, NSiWF), dtype=np.double)\n",
    "   \n",
    "    for j in range(NSiPM):\n",
    "        pmean = 0\n",
    "        for k in range(NSiWF):\n",
    "            pmean += sipm[j,k]\n",
    "        pmean /= NSiWF\n",
    "        \n",
    "        for k in range(NSiWF):\n",
    "                siwf[j,k] = (sipm[j,k] - pmean) / adc_to_pes[j]\n",
    "        \n",
    "    \n",
    "    return siwf"
   ]
  },
  {
   "cell_type": "code",
   "execution_count": 30,
   "metadata": {
    "autoscroll": false,
    "ein.tags": "worksheet-0",
    "slideshow": {
     "slide_type": "-"
    }
   },
   "outputs": [],
   "source": [
    "def subtract_baseline_and_normalize_numpy_loop(sipm, adc_to_pes):\n",
    "    NSiPM = sipm.shape[0]\n",
    "    NSiWF = sipm.shape[1]\n",
    "    siwf  = np.zeros((NSiPM, NSiWF), dtype=np.double)\n",
    "    bl    = np.mean(sipm, axis=1)\n",
    "    for i in range(NSiPM):\n",
    "        siwf[i] = (sipm[i] - bl[i]) / adc_to_pes[i]\n",
    "    \n",
    "    return siwf"
   ]
  },
  {
   "cell_type": "code",
   "execution_count": 31,
   "metadata": {
    "autoscroll": false,
    "ein.tags": "worksheet-0",
    "slideshow": {
     "slide_type": "-"
    }
   },
   "outputs": [],
   "source": [
    "def subtract_baseline_and_normalize_numpy_pure(sipm, adc_to_pes):\n",
    "    NSiPM = sipm.shape[0]\n",
    "    NSiWF = sipm.shape[1]\n",
    "    siwf = np.zeros((NSiPM, NSiWF), dtype=np.double)\n",
    "    bl = np.mean(sipm, axis=1)\n",
    "    return (sipm - bl[:, np.newaxis]) / adc_to_pes[:, np.newaxis]"
   ]
  },
  {
   "cell_type": "code",
   "execution_count": 32,
   "metadata": {
    "autoscroll": false,
    "ein.tags": "worksheet-0",
    "slideshow": {
     "slide_type": "-"
    }
   },
   "outputs": [],
   "source": [
    "%%cython \n",
    "\n",
    "cimport numpy as np\n",
    "import  numpy as np\n",
    "\n",
    "cdef double cmean(double [:] v):\n",
    "    cdef int    k\n",
    "    cdef int    N     = len(v)\n",
    "    cdef double pmean = 0\n",
    "    \n",
    "    for k in range(N):\n",
    "        pmean += v[k]\n",
    "    pmean /= N\n",
    "    return pmean\n",
    "\n",
    "cpdef subtract_baseline_and_normalize_cython(np.ndarray[np.int16_t  , ndim=2] sipm, \n",
    "                                             np.ndarray[np.float64_t, ndim=1] adc_to_pes):\n",
    "    cdef int NSiPM = sipm.shape[0]\n",
    "    cdef int NSiWF = sipm.shape[1]\n",
    "    cdef double [:, :] SiWF = sipm.astype(np.double)\n",
    "    cdef double [:, :] siwf = np.zeros((NSiPM, NSiWF), dtype=np.double)\n",
    "    cdef double [:]    bl = np.zeros(NSiPM)\n",
    "   \n",
    "    cdef int j, k\n",
    "    cdef double pmean\n",
    "    for j in range(NSiPM):\n",
    "        pmean = cmean(SiWF[j])\n",
    "        \n",
    "        for k in range(NSiWF):\n",
    "                siwf[j,k] = (SiWF[j,k] - pmean) / adc_to_pes[j]\n",
    "        \n",
    "    return np.asarray(siwf)"
   ]
  },
  {
   "cell_type": "code",
   "execution_count": 33,
   "metadata": {
    "autoscroll": false,
    "ein.tags": "worksheet-0",
    "slideshow": {
     "slide_type": "-"
    }
   },
   "outputs": [],
   "source": [
    "%%cython \n",
    "\n",
    "cimport numpy as np\n",
    "import  numpy as np\n",
    "\n",
    "cpdef subtract_baseline_and_normalize_cython_np(np.ndarray[np.int16_t  , ndim=2] sipm, \n",
    "                                                np.ndarray[np.float64_t, ndim=1] adc_to_pes):\n",
    "    cdef int NSiPM = sipm.shape[0]\n",
    "    bl = np.zeros(NSiPM)\n",
    "   \n",
    "    bl = np.mean(sipm, axis=1)\n",
    "    return (sipm - bl[:, np.newaxis]) / adc_to_pes[:, np.newaxis]"
   ]
  },
  {
   "cell_type": "code",
   "execution_count": 34,
   "metadata": {
    "autoscroll": false,
    "ein.tags": "worksheet-0",
    "slideshow": {
     "slide_type": "-"
    }
   },
   "outputs": [],
   "source": [
    "subtract_baseline_and_normalize_numba            = jit(subtract_baseline_and_normalize_python)\n",
    "subtract_baseline_and_normalize_numba_numpy_loop = jit(subtract_baseline_and_normalize_numpy_loop)\n",
    "subtract_baseline_and_normalize_numba_numpy_pure = jit(subtract_baseline_and_normalize_numpy_pure)"
   ]
  },
  {
   "cell_type": "code",
   "execution_count": 35,
   "metadata": {
    "autoscroll": false,
    "ein.tags": "worksheet-0",
    "slideshow": {
     "slide_type": "slide"
    }
   },
   "outputs": [
    {
     "data": {
      "text/plain": [
       "True"
      ]
     },
     "execution_count": 35,
     "metadata": {},
     "output_type": "execute_result"
    }
   ],
   "source": [
    "import pytest\n",
    "\n",
    "subtract_baseline_compare = CompareImplementations(equivalence = pytest.approx)\n",
    "subtract_baseline_compare.register_functions('Python'           , subtract_baseline_and_normalize_python,\n",
    "                                             'Numpy loop'       , subtract_baseline_and_normalize_numpy_loop,\n",
    "                                             'Numpy pure'       , subtract_baseline_and_normalize_numpy_pure,\n",
    "                                             'Cython'           , subtract_baseline_and_normalize_cython,\n",
    "                                             'Cython numpy'     , subtract_baseline_and_normalize_cython_np,\n",
    "                                             'Numba  python'    , subtract_baseline_and_normalize_numba,\n",
    "                                             'Numba  numpy loop', subtract_baseline_and_normalize_numba_numpy_loop,\n",
    "                                             'Numba  numpy pure', subtract_baseline_and_normalize_numba_numpy_pure,\n",
    ")\n",
    "\n",
    "subtract_baseline_compare.check_equivalence(sipm, adc_to_pes)"
   ]
  },
  {
   "cell_type": "code",
   "execution_count": 36,
   "metadata": {
    "autoscroll": false,
    "ein.tags": "worksheet-0",
    "slideshow": {
     "slide_type": "-"
    }
   },
   "outputs": [
    {
     "name": "stdout",
     "output_type": "stream",
     "text": [
      "Python             195 ms ± 106 µs per loop (mean ± std. dev. of 3 runs, 10 loops each)\n",
      "Numpy loop         547 µs ± 442 ns per loop (mean ± std. dev. of 3 runs, 1000 loops each)\n",
      "Numpy pure         276 µs ± 10.4 µs per loop (mean ± std. dev. of 3 runs, 1000 loops each)\n",
      "Cython             266 µs ± 486 ns per loop (mean ± std. dev. of 3 runs, 1000 loops each)\n",
      "Cython numpy       240 µs ± 3.85 µs per loop (mean ± std. dev. of 3 runs, 1000 loops each)\n",
      "Numba  python      233 µs ± 5.52 µs per loop (mean ± std. dev. of 3 runs, 1000 loops each)\n",
      "Numba  numpy loop  192 µs ± 343 ns per loop (mean ± std. dev. of 3 runs, 10000 loops each)\n",
      "Numba  numpy pure  255 µs ± 3.41 µs per loop (mean ± std. dev. of 3 runs, 1000 loops each)\n"
     ]
    },
    {
     "data": {
      "text/plain": [
       "Python                  1.000000\n",
       "Numpy loop            355.983029\n",
       "Cython                734.438528\n",
       "Numpy pure            744.101577\n",
       "Numba  numpy pure     772.429556\n",
       "Cython numpy          822.311861\n",
       "Numba  python         858.203417\n",
       "Numba  numpy loop    1015.496026\n",
       "dtype: float64"
      ]
     },
     "execution_count": 36,
     "metadata": {},
     "output_type": "execute_result"
    }
   ],
   "source": [
    "subtract_baseline_compare.speeds_single_input(sipm, adc_to_pes)"
   ]
  },
  {
   "cell_type": "code",
   "execution_count": 37,
   "metadata": {
    "autoscroll": false,
    "ein.tags": "worksheet-0",
    "slideshow": {
     "slide_type": "-"
    }
   },
   "outputs": [
    {
     "data": {
      "text/html": [
       "<div>\n",
       "<style scoped>\n",
       "    .dataframe tbody tr th:only-of-type {\n",
       "        vertical-align: middle;\n",
       "    }\n",
       "\n",
       "    .dataframe tbody tr th {\n",
       "        vertical-align: top;\n",
       "    }\n",
       "\n",
       "    .dataframe thead th {\n",
       "        text-align: right;\n",
       "    }\n",
       "</style>\n",
       "<table border=\"1\" class=\"dataframe\">\n",
       "  <thead>\n",
       "    <tr style=\"text-align: right;\">\n",
       "      <th></th>\n",
       "      <th>Python</th>\n",
       "      <th>Numpy loop</th>\n",
       "      <th>Cython</th>\n",
       "      <th>Numpy pure</th>\n",
       "      <th>Numba  numpy pure</th>\n",
       "      <th>Cython numpy</th>\n",
       "      <th>Numba  python</th>\n",
       "      <th>Numba  numpy loop</th>\n",
       "    </tr>\n",
       "  </thead>\n",
       "  <tbody>\n",
       "    <tr>\n",
       "      <th>Python</th>\n",
       "      <td>1.000000</td>\n",
       "      <td>0.002809</td>\n",
       "      <td>0.001362</td>\n",
       "      <td>0.001344</td>\n",
       "      <td>0.001295</td>\n",
       "      <td>0.001216</td>\n",
       "      <td>0.001165</td>\n",
       "      <td>0.000985</td>\n",
       "    </tr>\n",
       "    <tr>\n",
       "      <th>Numpy loop</th>\n",
       "      <td>355.983029</td>\n",
       "      <td>1.000000</td>\n",
       "      <td>0.484701</td>\n",
       "      <td>0.478406</td>\n",
       "      <td>0.460861</td>\n",
       "      <td>0.432905</td>\n",
       "      <td>0.414800</td>\n",
       "      <td>0.350551</td>\n",
       "    </tr>\n",
       "    <tr>\n",
       "      <th>Cython</th>\n",
       "      <td>734.438528</td>\n",
       "      <td>2.063128</td>\n",
       "      <td>1.000000</td>\n",
       "      <td>0.987014</td>\n",
       "      <td>0.950816</td>\n",
       "      <td>0.893139</td>\n",
       "      <td>0.855786</td>\n",
       "      <td>0.723231</td>\n",
       "    </tr>\n",
       "    <tr>\n",
       "      <th>Numpy pure</th>\n",
       "      <td>744.101577</td>\n",
       "      <td>2.090273</td>\n",
       "      <td>1.013157</td>\n",
       "      <td>1.000000</td>\n",
       "      <td>0.963326</td>\n",
       "      <td>0.904890</td>\n",
       "      <td>0.867046</td>\n",
       "      <td>0.732747</td>\n",
       "    </tr>\n",
       "    <tr>\n",
       "      <th>Numba  numpy pure</th>\n",
       "      <td>772.429556</td>\n",
       "      <td>2.169849</td>\n",
       "      <td>1.051728</td>\n",
       "      <td>1.038070</td>\n",
       "      <td>1.000000</td>\n",
       "      <td>0.939339</td>\n",
       "      <td>0.900054</td>\n",
       "      <td>0.760643</td>\n",
       "    </tr>\n",
       "    <tr>\n",
       "      <th>Cython numpy</th>\n",
       "      <td>822.311861</td>\n",
       "      <td>2.309975</td>\n",
       "      <td>1.119647</td>\n",
       "      <td>1.105107</td>\n",
       "      <td>1.064578</td>\n",
       "      <td>1.000000</td>\n",
       "      <td>0.958178</td>\n",
       "      <td>0.809764</td>\n",
       "    </tr>\n",
       "    <tr>\n",
       "      <th>Numba  python</th>\n",
       "      <td>858.203417</td>\n",
       "      <td>2.410799</td>\n",
       "      <td>1.168516</td>\n",
       "      <td>1.153342</td>\n",
       "      <td>1.111044</td>\n",
       "      <td>1.043647</td>\n",
       "      <td>1.000000</td>\n",
       "      <td>0.845108</td>\n",
       "    </tr>\n",
       "    <tr>\n",
       "      <th>Numba  numpy loop</th>\n",
       "      <td>1015.496026</td>\n",
       "      <td>2.852653</td>\n",
       "      <td>1.382683</td>\n",
       "      <td>1.364728</td>\n",
       "      <td>1.314678</td>\n",
       "      <td>1.234928</td>\n",
       "      <td>1.183281</td>\n",
       "      <td>1.000000</td>\n",
       "    </tr>\n",
       "  </tbody>\n",
       "</table>\n",
       "</div>"
      ],
      "text/plain": [
       "                        Python  Numpy loop    Cython  Numpy pure  \\\n",
       "Python                1.000000    0.002809  0.001362    0.001344   \n",
       "Numpy loop          355.983029    1.000000  0.484701    0.478406   \n",
       "Cython              734.438528    2.063128  1.000000    0.987014   \n",
       "Numpy pure          744.101577    2.090273  1.013157    1.000000   \n",
       "Numba  numpy pure   772.429556    2.169849  1.051728    1.038070   \n",
       "Cython numpy        822.311861    2.309975  1.119647    1.105107   \n",
       "Numba  python       858.203417    2.410799  1.168516    1.153342   \n",
       "Numba  numpy loop  1015.496026    2.852653  1.382683    1.364728   \n",
       "\n",
       "                   Numba  numpy pure  Cython numpy  Numba  python  \\\n",
       "Python                      0.001295      0.001216       0.001165   \n",
       "Numpy loop                  0.460861      0.432905       0.414800   \n",
       "Cython                      0.950816      0.893139       0.855786   \n",
       "Numpy pure                  0.963326      0.904890       0.867046   \n",
       "Numba  numpy pure           1.000000      0.939339       0.900054   \n",
       "Cython numpy                1.064578      1.000000       0.958178   \n",
       "Numba  python               1.111044      1.043647       1.000000   \n",
       "Numba  numpy loop           1.314678      1.234928       1.183281   \n",
       "\n",
       "                   Numba  numpy loop  \n",
       "Python                      0.000985  \n",
       "Numpy loop                  0.350551  \n",
       "Cython                      0.723231  \n",
       "Numpy pure                  0.732747  \n",
       "Numba  numpy pure           0.760643  \n",
       "Cython numpy                0.809764  \n",
       "Numba  python               0.845108  \n",
       "Numba  numpy loop           1.000000  "
      ]
     },
     "execution_count": 37,
     "metadata": {},
     "output_type": "execute_result"
    }
   ],
   "source": [
    "tabulate_all_normalizations(_)"
   ]
  }
 ],
 "metadata": {
  "kernelspec": {
   "display_name": "Python 2",
   "language": "python",
   "name": "python2"
  },
  "language_info": {
   "codemirror_mode": {
    "name": "ipython",
    "version": 2
   },
   "file_extension": ".py",
   "mimetype": "text/x-python",
   "name": "python",
   "nbconvert_exporter": "python",
   "pygments_lexer": "ipython2",
   "version": "2.7.14"
  },
  "name": "compare.ipynb"
 },
 "nbformat": 4,
 "nbformat_minor": 2
}
