{
 "cells": [
  {
   "cell_type": "markdown",
   "metadata": {},
   "source": [
    "# Comparison of the performance of the trained models with the paper results\n",
    "\n",
    "This notebook takes the shallow and deep models trained before and compares their performance with the published results in the paper *Searching for Exotic Particles in High-Energy Physics with Deep Learning* by Balid et al."
   ]
  },
  {
   "cell_type": "code",
   "execution_count": 1,
   "metadata": {},
   "outputs": [
    {
     "name": "stderr",
     "output_type": "stream",
     "text": [
      "/home/stefan/py2_virtualenv/local/lib/python2.7/site-packages/h5py/__init__.py:36: FutureWarning: Conversion of the second argument of issubdtype from `float` to `np.floating` is deprecated. In future, it will be treated as `np.float64 == np.dtype(float).type`.\n",
      "  from ._conv import register_converters as _register_converters\n",
      "Using TensorFlow backend.\n"
     ]
    }
   ],
   "source": [
    "import os\n",
    "os.environ[\"KERAS_BACKEND\"] = \"tensorflow\"\n",
    "import numpy as np\n",
    "np.random.seed(1234)\n",
    "import h5py\n",
    "import pickle\n",
    "import matplotlib.pyplot as plt\n",
    "%matplotlib inline\n",
    "from sklearn.metrics import roc_curve, auc\n",
    "from sklearn.model_selection import train_test_split\n",
    "from keras.models import load_model"
   ]
  },
  {
   "cell_type": "markdown",
   "metadata": {},
   "source": [
    "## Load the dataset, the pre-processing parameters and the models\n",
    "\n",
    "The following cells load all data needed to evaluate the models."
   ]
  },
  {
   "cell_type": "code",
   "execution_count": 2,
   "metadata": {},
   "outputs": [],
   "source": [
    "file_ = h5py.File(\"HIGGS.h5\")\n",
    "inputs = np.array(file_[\"features\"])\n",
    "targets = np.array(file_[\"targets\"])"
   ]
  },
  {
   "cell_type": "code",
   "execution_count": 3,
   "metadata": {},
   "outputs": [],
   "source": [
    "model_shallow = load_model(\"HIGGS_shallow.h5\")\n",
    "model_deep = load_model(\"HIGGS_deep.h5\")"
   ]
  },
  {
   "cell_type": "code",
   "execution_count": 4,
   "metadata": {},
   "outputs": [],
   "source": [
    "preprocessing_input = pickle.load(open(\"HIGGS_preprocessing.pickle\", \"rb\"))"
   ]
  },
  {
   "cell_type": "code",
   "execution_count": 5,
   "metadata": {},
   "outputs": [],
   "source": [
    "inputs_train, inputs_test, targets_train, targets_test = train_test_split(\n",
    "        inputs, targets, test_size=0.90, random_state=1234, shuffle=True)"
   ]
  },
  {
   "cell_type": "markdown",
   "metadata": {},
   "source": [
    "## Evalute the models performance\n",
    "\n",
    "The performance of the trained model is evaluated on a subset of the testing dataset by calculating the receiver-operating-characteristic (ROC) and the respective area-under-curve (AUC) as metric."
   ]
  },
  {
   "cell_type": "code",
   "execution_count": 6,
   "metadata": {},
   "outputs": [],
   "source": [
    "num_events = 10000\n",
    "predictions_shallow = model_shallow.predict(\n",
    "        preprocessing_input.transform(inputs_test[:num_events]))\n",
    "predictions_deep = model_deep.predict(\n",
    "        preprocessing_input.transform(inputs_test[:num_events]))"
   ]
  },
  {
   "cell_type": "code",
   "execution_count": 7,
   "metadata": {},
   "outputs": [],
   "source": [
    "fpr_shallow, tpr_shallow, _ = roc_curve(targets_test[:num_events], predictions_shallow)\n",
    "fpr_deep, tpr_deep, _ = roc_curve(targets_test[:num_events], predictions_deep)\n",
    "\n",
    "auc_shallow = auc(fpr_shallow, tpr_shallow)\n",
    "auc_deep = auc(fpr_deep, tpr_deep)"
   ]
  },
  {
   "cell_type": "markdown",
   "metadata": {},
   "source": [
    "## Compare the performance with the results of the paper\n",
    "\n",
    "The following two plots show the results achieved by this training and by the paper. The shallow models show a close match while the deep model seems to be less powerful than the model used in the paper. However, we used only a small fraction of the full dataset and only very few epochs for training so that this result in feasible. Feel free to experiment with the code and improve the deep model!"
   ]
  },
  {
   "cell_type": "code",
   "execution_count": 8,
   "metadata": {},
   "outputs": [
    {
     "data": {
      "image/png": "[encoded data removed]",
      "text/plain": [
       "<matplotlib.figure.Figure at 0x7f7f28191690>"
      ]
     },
     "metadata": {},
     "output_type": "display_data"
    }
   ],
   "source": [
    "plt.figure(figsize=(6,6))\n",
    "plt.plot(tpr_deep, 1.0-fpr_deep, lw=3, alpha=0.8,\n",
    "        label=\"Deep (AUC={:.2f})\".format(auc_deep))\n",
    "plt.plot(tpr_shallow, 1.0-fpr_shallow, lw=3, alpha=0.8,\n",
    "        label=\"Shallow (AUC={:.2f})\".format(auc_shallow))\n",
    "plt.xlabel(\"Signal efficiency\")\n",
    "plt.ylabel(\"Background rejection\")\n",
    "plt.legend(loc=3)\n",
    "plt.xlim((0.0, 1.0))\n",
    "plt.ylim((0.0, 1.0))\n",
    "plt.savefig(\"HIGGS_roc.png\", bbox_inches=\"tight\")"
   ]
  },
  {
   "cell_type": "markdown",
   "metadata": {},
   "source": [
    "![Baldi](baldi_roc.png)"
   ]
  }
 ],
 "metadata": {
  "kernelspec": {
   "display_name": "Python 2",
   "language": "python",
   "name": "python2"
  },
  "language_info": {
   "codemirror_mode": {
    "name": "ipython",
    "version": 2
   },
   "file_extension": ".py",
   "mimetype": "text/x-python",
   "name": "python",
   "nbconvert_exporter": "python",
   "pygments_lexer": "ipython2",
   "version": "2.7.12"
  }
 },
 "nbformat": 4,
 "nbformat_minor": 2
}
