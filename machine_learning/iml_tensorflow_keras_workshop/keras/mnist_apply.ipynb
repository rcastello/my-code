{
 "cells": [
  {
   "cell_type": "markdown",
   "metadata": {},
   "source": [
    "## Load and apply a trained Keras model\n",
    "\n",
    "The code of this notebook shows how you can load and apply an already trained Keras model."
   ]
  },
  {
   "cell_type": "code",
   "execution_count": 1,
   "metadata": {},
   "outputs": [
    {
     "name": "stderr",
     "output_type": "stream",
     "text": [
      "/home/stefan/py2_virtualenv/local/lib/python2.7/site-packages/h5py/__init__.py:36: FutureWarning: Conversion of the second argument of issubdtype from `float` to `np.floating` is deprecated. In future, it will be treated as `np.float64 == np.dtype(float).type`.\n",
      "  from ._conv import register_converters as _register_converters\n",
      "Using TensorFlow backend.\n"
     ]
    }
   ],
   "source": [
    "from os import environ\n",
    "environ[\"KERAS_BACKEND\"] = \"tensorflow\"\n",
    "import numpy as np\n",
    "import png\n",
    "from keras.models import load_model\n",
    "from os import listdir\n",
    "import matplotlib.pyplot as plt\n",
    "%matplotlib inline"
   ]
  },
  {
   "cell_type": "markdown",
   "metadata": {},
   "source": [
    "## Load the model\n",
    "\n",
    "Loading a Keras model needs only a single line of code, see below. After this call, the model is back in the same state you stored it at the training step either by the `ModelCheckpoint` or `model.save(...)`."
   ]
  },
  {
   "cell_type": "code",
   "execution_count": 2,
   "metadata": {},
   "outputs": [],
   "source": [
    "model = load_model(\"mnist_model.h5\")"
   ]
  },
  {
   "cell_type": "markdown",
   "metadata": {},
   "source": [
    "## Apply the model\n",
    "\n",
    "The application is done as shown in the testing phase of the training script. Simply call `model.predict(inputs)` on your data."
   ]
  },
  {
   "cell_type": "code",
   "execution_count": 3,
   "metadata": {},
   "outputs": [],
   "source": [
    "predictions = []\n",
    "images = []\n",
    "for f in sorted(listdir(\".\")):\n",
    "    if \"mnist_example_\" in f:\n",
    "        image = np.zeros((1, 28, 28, 1), dtype=np.uint8)\n",
    "        pngdata = png.Reader(open(f, 'rb')).asDirect()\n",
    "        for i_row, row in enumerate(pngdata[2]):\n",
    "            image[0, i_row, :, 0] = row\n",
    "        images.append(image)\n",
    "        \n",
    "        prediction = np.argmax(model.predict(image))\n",
    "        predictions.append(prediction)"
   ]
  },
  {
   "cell_type": "code",
   "execution_count": 4,
   "metadata": {},
   "outputs": [
    {
     "data": {
      "image/png": "[encoded data removed]",
      "text/plain": [
       "<matplotlib.figure.Figure at 0x7f4712e86a50>"
      ]
     },
     "metadata": {},
     "output_type": "display_data"
    }
   ],
   "source": [
    "num_examples = len(images)\n",
    "plt.figure(figsize=(num_examples*2, 2))\n",
    "plt.rcParams.update({'axes.titlesize': 'xx-large'})\n",
    "for i in range(num_examples):\n",
    "    plt.subplot(1, num_examples, i+1)\n",
    "    plt.axis('off')\n",
    "    plt.imshow(np.squeeze(images[i]), cmap=\"gray\")\n",
    "    plt.title(\"{}\".format(predictions[i]))"
   ]
  }
 ],
 "metadata": {
  "kernelspec": {
   "display_name": "Python 2",
   "language": "python",
   "name": "python2"
  },
  "language_info": {
   "codemirror_mode": {
    "name": "ipython",
    "version": 2
   },
   "file_extension": ".py",
   "mimetype": "text/x-python",
   "name": "python",
   "nbconvert_exporter": "python",
   "pygments_lexer": "ipython2",
   "version": "2.7.12"
  }
 },
 "nbformat": 4,
 "nbformat_minor": 2
}
