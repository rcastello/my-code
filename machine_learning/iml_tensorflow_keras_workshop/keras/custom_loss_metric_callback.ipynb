{
 "cells": [
  {
   "cell_type": "markdown",
   "metadata": {},
   "source": [
    "# Custom functions for the loss, metrics and callbacks\n",
    "\n",
    "Keras is highly customizable because most details of the API can be adapted to your needs. The following workflow presents the implementation of a custom loss function, custom metrics and custom training callbacks."
   ]
  },
  {
   "cell_type": "code",
   "execution_count": 1,
   "metadata": {},
   "outputs": [
    {
     "name": "stderr",
     "output_type": "stream",
     "text": [
      "/home/stefan/py2_virtualenv/local/lib/python2.7/site-packages/h5py/__init__.py:36: FutureWarning: Conversion of the second argument of issubdtype from `float` to `np.floating` is deprecated. In future, it will be treated as `np.float64 == np.dtype(float).type`.\n",
      "  from ._conv import register_converters as _register_converters\n",
      "Using TensorFlow backend.\n"
     ]
    }
   ],
   "source": [
    "import os\n",
    "os.environ[\"KERAS_BACKEND\"] = \"tensorflow\"\n",
    "import numpy as np\n",
    "np.random.seed(1234)\n",
    "import matplotlib.pyplot as plt\n",
    "\n",
    "from keras.models import Sequential\n",
    "from keras.layers.core import Dense"
   ]
  },
  {
   "cell_type": "markdown",
   "metadata": {},
   "source": [
    "## Generate data\n",
    "\n",
    "As simple example, data is taken from 2D-Gaussian distributions."
   ]
  },
  {
   "cell_type": "code",
   "execution_count": 2,
   "metadata": {},
   "outputs": [],
   "source": [
    "signal_mean = [1.0, 1.0]\n",
    "signal_cov = [[1.0, 0.0],\n",
    "              [0.0, 1.0]]\n",
    "background_mean = [-1.0, -1.0]\n",
    "background_cov = [[1.0, 0.0],\n",
    "                  [0.0, 1.0]]\n",
    "num_events = 100000\n",
    "\n",
    "signal = np.random.multivariate_normal(signal_mean, signal_cov, num_events/2)\n",
    "background = np.random.multivariate_normal(background_mean, background_cov, num_events/2)\n",
    "\n",
    "inputs = np.vstack([signal, background])\n",
    "labels = np.vstack([np.ones((num_events/2, 1)), np.zeros((num_events/2, 1))])\n",
    "\n",
    "np.random.seed(1234)\n",
    "np.random.shuffle(inputs)\n",
    "np.random.seed(1234)\n",
    "np.random.shuffle(labels)"
   ]
  },
  {
   "cell_type": "markdown",
   "metadata": {},
   "source": [
    "## Define model"
   ]
  },
  {
   "cell_type": "code",
   "execution_count": 3,
   "metadata": {},
   "outputs": [],
   "source": [
    "model = Sequential()\n",
    "model.add(Dense(100, activation=\"relu\", input_shape=(2,)))\n",
    "model.add(Dense(1, activation=\"sigmoid\"))"
   ]
  },
  {
   "cell_type": "markdown",
   "metadata": {},
   "source": [
    "## Add custom loss function and custom metric\n",
    "\n",
    "Custom loss functions and metrics are very similar because they just have to be a python callable satisfying the signature `function(y_true, y_pred)`."
   ]
  },
  {
   "cell_type": "code",
   "execution_count": 4,
   "metadata": {},
   "outputs": [],
   "source": [
    "import keras.backend as K\n",
    "\n",
    "def custom_loss(y_true, y_pred):\n",
    "    return K.mean(K.square(y_pred - y_true), axis=-1)\n",
    "\n",
    "def custom_metric(y_true, y_pred):\n",
    "    return K.mean(K.square(y_pred - y_true), axis=-1)\n",
    "\n",
    "model.compile(loss=custom_loss, optimizer=\"adam\", metrics=[custom_metric])"
   ]
  },
  {
   "cell_type": "markdown",
   "metadata": {},
   "source": [
    "## Add custom training callback\n",
    "\n",
    "Callbacks can be inherited from the base callback. To adapt the functionality, simply modify the methods of the class shown below performing actions at different steps of the training process.\n",
    "\n",
    "The implemented callback calculates the true-positive and false-positive rate of the classifier after each epoch."
   ]
  },
  {
   "cell_type": "code",
   "execution_count": 5,
   "metadata": {},
   "outputs": [
    {
     "name": "stdout",
     "output_type": "stream",
     "text": [
      "Train on 50000 samples, validate on 50000 samples\n",
      "Epoch 1/10\n",
      "50000/50000 [==============================] - 0s 2us/step - loss: 0.2385 - custom_metric: 0.2385 - val_loss: 0.2332 - val_custom_metric: 0.2332\n",
      "Epoch 2/10\n",
      "50000/50000 [==============================] - 0s 2us/step - loss: 0.2328 - custom_metric: 0.2328 - val_loss: 0.2276 - val_custom_metric: 0.2276\n",
      "Epoch 3/10\n",
      "50000/50000 [==============================] - 0s 2us/step - loss: 0.2273 - custom_metric: 0.2273 - val_loss: 0.2222 - val_custom_metric: 0.2222\n",
      "Epoch 4/10\n",
      "50000/50000 [==============================] - 0s 1us/step - loss: 0.2218 - custom_metric: 0.2218 - val_loss: 0.2168 - val_custom_metric: 0.2168\n",
      "Epoch 5/10\n",
      "50000/50000 [==============================] - 0s 1us/step - loss: 0.2165 - custom_metric: 0.2165 - val_loss: 0.2116 - val_custom_metric: 0.2116\n",
      "Epoch 6/10\n",
      "50000/50000 [==============================] - 0s 1us/step - loss: 0.2112 - custom_metric: 0.2112 - val_loss: 0.2065 - val_custom_metric: 0.2065\n",
      "Epoch 7/10\n",
      "50000/50000 [==============================] - 0s 1us/step - loss: 0.2061 - custom_metric: 0.2061 - val_loss: 0.2016 - val_custom_metric: 0.2016\n",
      "Epoch 8/10\n",
      "50000/50000 [==============================] - 0s 1us/step - loss: 0.2012 - custom_metric: 0.2012 - val_loss: 0.1968 - val_custom_metric: 0.1968\n",
      "Epoch 9/10\n",
      "50000/50000 [==============================] - 0s 2us/step - loss: 0.1964 - custom_metric: 0.1964 - val_loss: 0.1921 - val_custom_metric: 0.1921\n",
      "Epoch 10/10\n",
      "50000/50000 [==============================] - 0s 1us/step - loss: 0.1917 - custom_metric: 0.1917 - val_loss: 0.1876 - val_custom_metric: 0.1876\n"
     ]
    }
   ],
   "source": [
    "from keras.callbacks import Callback\n",
    "\n",
    "class CustomCallback(Callback):\n",
    "    def on_train_begin(self, logs={}):\n",
    "        self.false_positive_rates = []\n",
    "        self.true_positive_rates = []\n",
    "\n",
    "    def on_train_end(self, logs={}):\n",
    "        pass\n",
    "\n",
    "    def on_epoch_begin(self, epoch, logs={}):\n",
    "        pass\n",
    "\n",
    "    def on_epoch_end(self, epoch, logs={}):\n",
    "        y_pred = self.model.predict(self.validation_data[0])\n",
    "        y_true = self.validation_data[1]\n",
    "        fp = 0.0\n",
    "        tp = 0.0\n",
    "        for t, p in zip(y_true, y_pred):\n",
    "            if t == 0 and p > 0.5:\n",
    "                fp += 1.0\n",
    "            if t == 1 and p > 0.5:\n",
    "                tp += 1.0\n",
    "        self.false_positive_rates.append(fp/len(y_true))\n",
    "        self.true_positive_rates.append(tp/len(y_true))\n",
    "\n",
    "    def on_batch_begin(self, batch, logs={}):\n",
    "        pass\n",
    "\n",
    "    def on_batch_end(self, batch, logs={}):\n",
    "        pass\n",
    "\n",
    "custom_callback = CustomCallback()\n",
    "model.fit(inputs, labels, batch_size=len(labels)/2, epochs=10, validation_split=0.5, callbacks=[custom_callback]);"
   ]
  },
  {
   "cell_type": "code",
   "execution_count": 6,
   "metadata": {},
   "outputs": [
    {
     "name": "stdout",
     "output_type": "stream",
     "text": [
      "Epoch:  1, TPR: 0.20, FPR: 0.04\n",
      "Epoch:  2, TPR: 0.24, FPR: 0.04\n",
      "Epoch:  3, TPR: 0.28, FPR: 0.04\n",
      "Epoch:  4, TPR: 0.32, FPR: 0.04\n",
      "Epoch:  5, TPR: 0.39, FPR: 0.04\n",
      "Epoch:  6, TPR: 0.44, FPR: 0.04\n",
      "Epoch:  7, TPR: 0.45, FPR: 0.05\n",
      "Epoch:  8, TPR: 0.46, FPR: 0.05\n",
      "Epoch:  9, TPR: 0.46, FPR: 0.05\n",
      "Epoch: 10, TPR: 0.47, FPR: 0.05\n"
     ]
    }
   ],
   "source": [
    "for i, (tpr, fpr) in enumerate(zip(custom_callback.true_positive_rates, custom_callback.false_positive_rates)):\n",
    "    print(\"Epoch: {:>2}, TPR: {:.2f}, FPR: {:.2f}\".format(i+1, tpr, fpr))"
   ]
  }
 ],
 "metadata": {
  "kernelspec": {
   "display_name": "Python 2",
   "language": "python",
   "name": "python2"
  },
  "language_info": {
   "codemirror_mode": {
    "name": "ipython",
    "version": 2
   },
   "file_extension": ".py",
   "mimetype": "text/x-python",
   "name": "python",
   "nbconvert_exporter": "python",
   "pygments_lexer": "ipython2",
   "version": "2.7.12"
  }
 },
 "nbformat": 4,
 "nbformat_minor": 2
}
