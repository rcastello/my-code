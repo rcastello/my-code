{
 "cells": [
  {
   "cell_type": "markdown",
   "metadata": {},
   "source": [
    "# Training a digit-classification neural network on the MNIST dataset using Keras\n",
    "\n",
    "The MNIST dataset is one of the most popular benchmark-datasets in modern machine learning. The dataset consists of 70000 images of handwritten digits and associated labels, which can be used to train neural network performing image classification.\n",
    "\n",
    "The following program presents the basic workflow of Keras showing the most import details of the API."
   ]
  },
  {
   "cell_type": "code",
   "execution_count": 1,
   "metadata": {},
   "outputs": [],
   "source": [
    "from os import environ\n",
    "environ[\"KERAS_BACKEND\"] = \"tensorflow\"\n",
    "\n",
    "import numpy as np\n",
    "np.random.seed(1234)\n",
    "\n",
    "import matplotlib.pyplot as plt\n",
    "%matplotlib inline"
   ]
  },
  {
   "cell_type": "markdown",
   "metadata": {},
   "source": [
    "## Download the dataset\n",
    "\n",
    "The code below downloads the dataset and performs a scaling of the pixel-values of the images. Because the images are encoded with 8-bit unsigned int values, we scale these values to floating-point values in the range `[0, 1)` so that the inputs match the activation of the neurons better."
   ]
  },
  {
   "cell_type": "code",
   "execution_count": 2,
   "metadata": {},
   "outputs": [
    {
     "name": "stderr",
     "output_type": "stream",
     "text": [
      "/home/stefan/py2_virtualenv/local/lib/python2.7/site-packages/h5py/__init__.py:36: FutureWarning: Conversion of the second argument of issubdtype from `float` to `np.floating` is deprecated. In future, it will be treated as `np.float64 == np.dtype(float).type`.\n",
      "  from ._conv import register_converters as _register_converters\n",
      "Using TensorFlow backend.\n"
     ]
    }
   ],
   "source": [
    "from keras.datasets import mnist\n",
    "from keras.utils.np_utils import to_categorical\n",
    "\n",
    "# Download dataset\n",
    "(x_train, y_train), (x_test, y_test) = mnist.load_data()\n",
    "\n",
    "# The data is loaded as flat array with 784 entries (28x28),\n",
    "# we need to reshape it into an array with shape:\n",
    "# (num_images, pixels_row, pixels_column, color channels)\n",
    "x_train = x_train.reshape(x_train.shape[0], 28, 28, 1)\n",
    "x_test = x_test.reshape(x_test.shape[0], 28, 28, 1)\n",
    "\n",
    "# Convert the uint8 PNG greyscale pixel values in range [0, 255]\n",
    "# to floats in range [0, 1]\n",
    "x_train = x_train.astype(\"float32\")\n",
    "x_test = x_test.astype(\"float32\")\n",
    "x_train /= 255\n",
    "x_test /= 255\n",
    "\n",
    "# Convert digits to one-hot vectors, e.g.,\n",
    "# 2 -> [0 0 1 0 0 0 0 0 0 0]\n",
    "# 0 -> [1 0 0 0 0 0 0 0 0 0]\n",
    "# 9 -> [0 0 0 0 0 0 0 0 0 1]\n",
    "y_train = to_categorical(y_train, 10)\n",
    "y_test = to_categorical(y_test, 10)"
   ]
  },
  {
   "cell_type": "markdown",
   "metadata": {},
   "source": [
    "Addtionally, we store some example images to disk to show later on the inference part of the Keras API."
   ]
  },
  {
   "cell_type": "code",
   "execution_count": 3,
   "metadata": {},
   "outputs": [
    {
     "data": {
      "image/png": "[encoded data removed]",
      "text/plain": [
       "<matplotlib.figure.Figure at 0x7fa588027550>"
      ]
     },
     "metadata": {},
     "output_type": "display_data"
    }
   ],
   "source": [
    "import png\n",
    "\n",
    "num_examples = 6\n",
    "plt.figure(figsize=(num_examples*2, 2))\n",
    "for i in range(num_examples):\n",
    "    plt.subplot(1, num_examples, i+1)\n",
    "    plt.axis('off')\n",
    "    example = np.squeeze(np.array(x_test[i]*255).astype(\"uint8\"))\n",
    "    plt.imshow(example, cmap=\"gray\")\n",
    "    w = png.Writer(28, 28, greyscale=True)\n",
    "    w.write(open(\"mnist_example_{}.png\".format(i+1), 'wb'), example)"
   ]
  },
  {
   "cell_type": "markdown",
   "metadata": {},
   "source": [
    "## Define the model\n",
    "\n",
    "The model definition in Keras can be done using the `Sequential` or the functional API. Shown here is the `Sequential` API allowing to stack neural network layers on top of each other, which is feasible for most neural network models. In contrast, the functional API would allow to have multiple inputs and outputs for a maximum of flexibility to build your custom model."
   ]
  },
  {
   "cell_type": "code",
   "execution_count": 4,
   "metadata": {},
   "outputs": [
    {
     "name": "stdout",
     "output_type": "stream",
     "text": [
      "_________________________________________________________________\n",
      "Layer (type)                 Output Shape              Param #   \n",
      "=================================================================\n",
      "conv2d_1 (Conv2D)            (None, 26, 26, 4)         40        \n",
      "_________________________________________________________________\n",
      "max_pooling2d_1 (MaxPooling2 (None, 13, 13, 4)         0         \n",
      "_________________________________________________________________\n",
      "flatten_1 (Flatten)          (None, 676)               0         \n",
      "_________________________________________________________________\n",
      "dense_1 (Dense)              (None, 16)                10832     \n",
      "_________________________________________________________________\n",
      "dense_2 (Dense)              (None, 10)                170       \n",
      "=================================================================\n",
      "Total params: 11,042\n",
      "Trainable params: 11,042\n",
      "Non-trainable params: 0\n",
      "_________________________________________________________________\n"
     ]
    }
   ],
   "source": [
    "from keras.models import Sequential\n",
    "from keras.layers import Dense, Flatten, MaxPooling2D, Conv2D\n",
    "\n",
    "model = Sequential()\n",
    "\n",
    "# First hidden layer\n",
    "model.add(Conv2D(\n",
    "        4, # Number of filters\n",
    "        (3, # column size of filter used for convolution\n",
    "        3), # row size of filter used for convolution\n",
    "        activation=\"relu\", # Rectified linear unit activation\n",
    "        input_shape=(28,28,1))) # 28x28 image with 1 color channel\n",
    "\n",
    "# All other hidden layers\n",
    "model.add(MaxPooling2D(pool_size=(2,2)))\n",
    "model.add(Flatten())\n",
    "model.add(Dense(16, activation=\"relu\"))\n",
    "\n",
    "# Output layer\n",
    "model.add(Dense(10, activation=\"softmax\"))\n",
    "\n",
    "# Print model summary\n",
    "model.summary()"
   ]
  },
  {
   "cell_type": "markdown",
   "metadata": {},
   "source": [
    "## Compile the model\n",
    "\n",
    "Using Keras, you have to `compile` a model, which means adding the loss function, the optimizer algorithm and validation metrics to your training setup."
   ]
  },
  {
   "cell_type": "code",
   "execution_count": 5,
   "metadata": {},
   "outputs": [],
   "source": [
    "model.compile(loss=\"categorical_crossentropy\",\n",
    "        optimizer=\"adam\",\n",
    "        metrics=[\"accuracy\"])"
   ]
  },
  {
   "cell_type": "markdown",
   "metadata": {},
   "source": [
    "## Train the model\n",
    "\n",
    "The cell below shows the training procedure of Keras using the `model.fit(...)` method. Besides typical options such as `batch_size` and `epochs`, which control the number of gradient steps of your training, Keras allows to use callbacks during training.\n",
    "\n",
    "Callbacks are methods, which are called during training to perform tasks such as saving checkpoints of the model (`ModelCheckpoint`) or stop the training early if a convergence criteria is met (`EarlyStopping`)."
   ]
  },
  {
   "cell_type": "code",
   "execution_count": 6,
   "metadata": {},
   "outputs": [
    {
     "name": "stdout",
     "output_type": "stream",
     "text": [
      "Train on 30000 samples, validate on 30000 samples\n",
      "Epoch 1/10\n",
      "30000/30000 [==============================] - 6s 187us/step - loss: 0.8089 - acc: 0.7567 - val_loss: 0.3181 - val_acc: 0.9084\n",
      "\n",
      "Epoch 00001: val_loss improved from inf to 0.31810, saving model to mnist_model.h5\n",
      "Epoch 2/10\n",
      "30000/30000 [==============================] - 6s 188us/step - loss: 0.2737 - acc: 0.9213 - val_loss: 0.2452 - val_acc: 0.9291\n",
      "\n",
      "Epoch 00002: val_loss improved from 0.31810 to 0.24520, saving model to mnist_model.h5\n",
      "Epoch 3/10\n",
      "30000/30000 [==============================] - 6s 188us/step - loss: 0.2165 - acc: 0.9386 - val_loss: 0.2091 - val_acc: 0.9390\n",
      "\n",
      "Epoch 00003: val_loss improved from 0.24520 to 0.20908, saving model to mnist_model.h5\n",
      "Epoch 4/10\n",
      "30000/30000 [==============================] - 6s 184us/step - loss: 0.1826 - acc: 0.9472 - val_loss: 0.1878 - val_acc: 0.9461\n",
      "\n",
      "Epoch 00004: val_loss improved from 0.20908 to 0.18783, saving model to mnist_model.h5\n",
      "Epoch 5/10\n",
      "30000/30000 [==============================] - 5s 180us/step - loss: 0.1576 - acc: 0.9560 - val_loss: 0.1688 - val_acc: 0.9517\n",
      "\n",
      "Epoch 00005: val_loss improved from 0.18783 to 0.16881, saving model to mnist_model.h5\n",
      "Epoch 6/10\n",
      "30000/30000 [==============================] - 5s 182us/step - loss: 0.1394 - acc: 0.9594 - val_loss: 0.1543 - val_acc: 0.9552\n",
      "\n",
      "Epoch 00006: val_loss improved from 0.16881 to 0.15425, saving model to mnist_model.h5\n",
      "Epoch 7/10\n",
      "30000/30000 [==============================] - 5s 181us/step - loss: 0.1252 - acc: 0.9642 - val_loss: 0.1473 - val_acc: 0.9574\n",
      "\n",
      "Epoch 00007: val_loss improved from 0.15425 to 0.14734, saving model to mnist_model.h5\n",
      "Epoch 8/10\n",
      "30000/30000 [==============================] - 5s 182us/step - loss: 0.1144 - acc: 0.9675 - val_loss: 0.1459 - val_acc: 0.9586\n",
      "\n",
      "Epoch 00008: val_loss improved from 0.14734 to 0.14591, saving model to mnist_model.h5\n",
      "Epoch 9/10\n",
      "30000/30000 [==============================] - 5s 183us/step - loss: 0.1054 - acc: 0.9698 - val_loss: 0.1326 - val_acc: 0.9619\n",
      "\n",
      "Epoch 00009: val_loss improved from 0.14591 to 0.13265, saving model to mnist_model.h5\n",
      "Epoch 10/10\n",
      "30000/30000 [==============================] - 6s 193us/step - loss: 0.0981 - acc: 0.9717 - val_loss: 0.1309 - val_acc: 0.9626\n",
      "\n",
      "Epoch 00010: val_loss improved from 0.13265 to 0.13086, saving model to mnist_model.h5\n"
     ]
    }
   ],
   "source": [
    "from keras.callbacks import ModelCheckpoint, EarlyStopping\n",
    "\n",
    "checkpoint = ModelCheckpoint(\n",
    "            filepath=\"mnist_model.h5\",\n",
    "            save_best_only=True,\n",
    "            verbose=1)\n",
    "early_stopping = EarlyStopping(patience=2)\n",
    "\n",
    "history = model.fit(x_train, y_train, # Training data\n",
    "            batch_size=100, # Batch size\n",
    "            epochs=10, # Maximum number of training epochs\n",
    "            validation_split=0.5, # Use 50% of the train dataset for validation\n",
    "            callbacks=[checkpoint, early_stopping]) # Register callbacks"
   ]
  },
  {
   "cell_type": "code",
   "execution_count": 7,
   "metadata": {},
   "outputs": [
    {
     "data": {
      "image/png": "[encoded data removed]",
      "text/plain": [
       "<matplotlib.figure.Figure at 0x7fa5850efb90>"
      ]
     },
     "metadata": {},
     "output_type": "display_data"
    }
   ],
   "source": [
    "epochs = range(1, len(history.history[\"loss\"])+1)\n",
    "plt.figure(figsize=(10,5))\n",
    "plt.subplot(1, 2, 1)\n",
    "plt.plot(epochs, history.history[\"loss\"], label=\"Training loss\")\n",
    "plt.plot(epochs, history.history[\"val_loss\"], label=\"Validation loss\")\n",
    "plt.legend(), plt.xlabel(\"Epochs\"), plt.ylabel(\"Loss\")\n",
    "plt.subplot(1, 2, 2)\n",
    "plt.plot(epochs, history.history[\"acc\"], label=\"Training accuracy\")\n",
    "plt.plot(epochs, history.history[\"val_acc\"], label=\"Validation accuracy\")\n",
    "plt.legend(), plt.xlabel(\"Epochs\"), plt.ylabel(\"Accuracy\");"
   ]
  },
  {
   "cell_type": "markdown",
   "metadata": {},
   "source": [
    "## Test the model\n",
    "\n",
    "The prediction of unseen data is performed using the `model.predict(inputs)` call. Below, a basic test of the model is done by calculating the accuracy on the test dataset."
   ]
  },
  {
   "cell_type": "code",
   "execution_count": 8,
   "metadata": {},
   "outputs": [
    {
     "name": "stdout",
     "output_type": "stream",
     "text": [
      "Test accuracy: 0.9654\n"
     ]
    }
   ],
   "source": [
    "# Get predictions on test dataset\n",
    "y_pred = model.predict(x_test)\n",
    "\n",
    "# Compare predictions with ground truth\n",
    "test_accuracy = np.sum(\n",
    "        np.argmax(y_test, axis=1)==np.argmax(y_pred, axis=1))/float(x_test.shape[0])\n",
    "\n",
    "print(\"Test accuracy: {}\".format(test_accuracy))"
   ]
  }
 ],
 "metadata": {
  "kernelspec": {
   "display_name": "Python 2",
   "language": "python",
   "name": "python2"
  },
  "language_info": {
   "codemirror_mode": {
    "name": "ipython",
    "version": 2
   },
   "file_extension": ".py",
   "mimetype": "text/x-python",
   "name": "python",
   "nbconvert_exporter": "python",
   "pygments_lexer": "ipython2",
   "version": "2.7.12"
  }
 },
 "nbformat": 4,
 "nbformat_minor": 2
}
