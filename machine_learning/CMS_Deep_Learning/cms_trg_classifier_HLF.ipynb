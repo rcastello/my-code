{
 "cells": [
  {
   "cell_type": "markdown",
   "metadata": {
    "collapsed": true
   },
   "source": [
    "# Importing"
   ]
  },
  {
   "cell_type": "code",
   "execution_count": 1,
   "metadata": {},
   "outputs": [],
   "source": [
    "import os,sys,types\n",
    "os.environ[\"CUDA_VISIBLE_DEVICES\"] = '7'\n",
    "import numpy as np\n",
    "import h5py\n",
    "import glob\n",
    "import pandas\n",
    "import itertools\n",
    "from six import string_types,reraise\n",
    "os.environ.update\n",
    "\n",
    "from utils import plot_confusion_matrix\n",
    "from sklearn.metrics import confusion_matrix\n",
    "\n",
    "import matplotlib.pyplot as plt\n",
    "%matplotlib inline\n",
    "if __package__ is None:\n",
    "    import sys, os\n",
    "    sys.path.append(os.path.realpath(\"/home/castello/ML_classifier/my_repository/CMS_Deep_Learning\"))"
   ]
  },
  {
   "cell_type": "code",
   "execution_count": 2,
   "metadata": {},
   "outputs": [
    {
     "name": "stderr",
     "output_type": "stream",
     "text": [
      "Using Theano backend.\n",
      "Using cuDNN version 5105 on context None\n",
      "Mapped name None to device cuda: GeForce GTX 1080 (0000:0E:00.0)\n"
     ]
    }
   ],
   "source": [
    "import keras\n",
    "from keras.models import Sequential, Model\n",
    "from keras.layers import Input\n",
    "from keras.layers import Dense, Dropout, Flatten, Reshape\n",
    "from keras.layers import Conv1D, MaxPooling1D, LocallyConnected1D\n",
    "from keras.layers.merge import concatenate\n",
    "from keras import backend as K\n",
    "from keras.callbacks import EarlyStopping, ReduceLROnPlateau\n",
    "#from keras.utils import plot_model"
   ]
  },
  {
   "cell_type": "code",
   "execution_count": 3,
   "metadata": {},
   "outputs": [],
   "source": [
    "from CMS_Deep_Learning.io import repr_structure, retrieve_data, nb_samples_from_h5, \\\n",
    "                    gen_from_data, simple_grab, restructure, flatten, assert_list, DataIterator\n",
    "import glob"
   ]
  },
  {
   "cell_type": "markdown",
   "metadata": {},
   "source": [
    "# Grab the datasets (both training and validation ones)"
   ]
  },
  {
   "cell_type": "code",
   "execution_count": 4,
   "metadata": {},
   "outputs": [],
   "source": [
    "example_dir = '/bigdata/shared/Delphes/np_datasets_new/3_way/MaxLepDeltaR_des' ## shuffled dataset\n",
    "ex_subset = glob.glob(example_dir + \"/val/*.h5\")[:2]\n",
    "#ex_subset = glob.glob(example_dir + \"/val/*.h5\")"
   ]
  },
  {
   "cell_type": "code",
   "execution_count": 5,
   "metadata": {},
   "outputs": [
    {
     "data": {
      "text/plain": [
       "['/bigdata/shared/Delphes/np_datasets_new/3_way/MaxLepDeltaR_des/val/000.h5',\n",
       " '/bigdata/shared/Delphes/np_datasets_new/3_way/MaxLepDeltaR_des/val/001.h5']"
      ]
     },
     "execution_count": 5,
     "metadata": {},
     "output_type": "execute_result"
    }
   ],
   "source": [
    "ex_subset ## this is a subset of two files"
   ]
  },
  {
   "cell_type": "code",
   "execution_count": 6,
   "metadata": {},
   "outputs": [
    {
     "name": "stdout",
     "output_type": "stream",
     "text": [
      "(330000, 14) (330000, 3)\n"
     ]
    }
   ],
   "source": [
    "X,Y = simple_grab(['X','Y'], data=example_dir +\"/train\",\n",
    "           input_keys='HLF',label_keys='Labels')\n",
    "print(X.shape, Y.shape)"
   ]
  },
  {
   "cell_type": "code",
   "execution_count": 7,
   "metadata": {},
   "outputs": [
    {
     "name": "stdout",
     "output_type": "stream",
     "text": [
      "(52500, 14) (52500, 3)\n"
     ]
    }
   ],
   "source": [
    "Xval,Yval = simple_grab(['X','Y'], data=example_dir +\"/val\",\n",
    "           input_keys='HLF',label_keys='Labels')\n",
    "print(Xval.shape, Yval.shape)"
   ]
  },
  {
   "cell_type": "markdown",
   "metadata": {
    "collapsed": true
   },
   "source": [
    "# Checking the dataset content"
   ]
  },
  {
   "cell_type": "code",
   "execution_count": 8,
   "metadata": {},
   "outputs": [],
   "source": [
    "myfile = h5py.File(\"/bigdata/shared/Delphes/np_datasets_new/3_way/MaxLepDeltaR_des/val/000.h5\")"
   ]
  },
  {
   "cell_type": "code",
   "execution_count": 9,
   "metadata": {},
   "outputs": [],
   "source": [
    "datasetIN = myfile.get('HLF')"
   ]
  },
  {
   "cell_type": "code",
   "execution_count": 10,
   "metadata": {},
   "outputs": [
    {
     "data": {
      "text/plain": [
       "h5py._hl.dataset.Dataset"
      ]
     },
     "execution_count": 10,
     "metadata": {},
     "output_type": "execute_result"
    }
   ],
   "source": [
    "type(datasetIN)"
   ]
  },
  {
   "cell_type": "markdown",
   "metadata": {
    "collapsed": true
   },
   "source": [
    "# Printing the content of the two shuffled datasets  "
   ]
  },
  {
   "cell_type": "code",
   "execution_count": 11,
   "metadata": {},
   "outputs": [
    {
     "name": "stdout",
     "output_type": "stream",
     "text": [
      "[[   0.           19.37954521   -1.16373146 ...,    0.           -1.            0.        ]\n",
      " [  64.71331787   25.43550491   -2.05074644 ...,    0.           -1.            1.        ]\n",
      " [ 107.83158493   44.87385559    2.61842871 ...,    0.           -1.            1.        ]\n",
      " ..., \n",
      " [  45.58285904   30.4067955    -1.67194188 ...,    0.            1.            1.        ]\n",
      " [   0.           20.80108452    0.27870378 ...,    0.           -1.            1.        ]\n",
      " [   0.           28.23332596    2.63427138 ...,    0.            1.            1.        ]]\n"
     ]
    }
   ],
   "source": [
    "print(X) ## This is the input: the 14 HLF features"
   ]
  },
  {
   "cell_type": "code",
   "execution_count": 12,
   "metadata": {},
   "outputs": [
    {
     "name": "stdout",
     "output_type": "stream",
     "text": [
      "[[ 1.  0.  0.]\n",
      " [ 1.  0.  0.]\n",
      " [ 0.  1.  0.]\n",
      " ..., \n",
      " [ 0.  0.  1.]\n",
      " [ 1.  0.  0.]\n",
      " [ 1.  0.  0.]]\n"
     ]
    }
   ],
   "source": [
    "print(Y) ## This is the target: it tells you to which dataset the original event was belonging to."
   ]
  },
  {
   "cell_type": "markdown",
   "metadata": {},
   "source": [
    "# Normalizing the input between 0 and 1 (for both training and validation)"
   ]
  },
  {
   "cell_type": "code",
   "execution_count": 13,
   "metadata": {},
   "outputs": [],
   "source": [
    "maxXValues = np.max(X, axis=0)\n",
    "minXValues = np.min(X, axis=0)"
   ]
  },
  {
   "cell_type": "code",
   "execution_count": 14,
   "metadata": {},
   "outputs": [],
   "source": [
    "normX = np.nan_to_num((X[:,:]-minXValues)/(maxXValues-minXValues))"
   ]
  },
  {
   "cell_type": "code",
   "execution_count": 15,
   "metadata": {},
   "outputs": [
    {
     "data": {
      "text/plain": [
       "(330000, 14)"
      ]
     },
     "execution_count": 15,
     "metadata": {},
     "output_type": "execute_result"
    }
   ],
   "source": [
    "normX.shape"
   ]
  },
  {
   "cell_type": "code",
   "execution_count": 16,
   "metadata": {},
   "outputs": [],
   "source": [
    "maxXvalValues = np.max(Xval, axis=0)\n",
    "minXvalValues = np.min(Xval, axis=0)"
   ]
  },
  {
   "cell_type": "code",
   "execution_count": 17,
   "metadata": {},
   "outputs": [],
   "source": [
    "normXval = np.nan_to_num((Xval[:,:]-minXvalValues)/(maxXvalValues-minXvalValues))"
   ]
  },
  {
   "cell_type": "code",
   "execution_count": 18,
   "metadata": {},
   "outputs": [
    {
     "data": {
      "text/plain": [
       "(52500, 14)"
      ]
     },
     "execution_count": 18,
     "metadata": {},
     "output_type": "execute_result"
    }
   ],
   "source": [
    "normXval.shape"
   ]
  },
  {
   "cell_type": "markdown",
   "metadata": {},
   "source": [
    "# Function to draw"
   ]
  },
  {
   "cell_type": "code",
   "execution_count": 19,
   "metadata": {},
   "outputs": [],
   "source": [
    "def show_losses( histories ):\n",
    "   # doing nothing for the moment, but it will do \n",
    "    return"
   ]
  },
  {
   "cell_type": "markdown",
   "metadata": {},
   "source": [
    "# Calculating the accuracy (to decide which model performs better)"
   ]
  },
  {
   "cell_type": "code",
   "execution_count": 20,
   "metadata": {},
   "outputs": [],
   "source": [
    "def accuracy( p ):\n",
    "    p_cat = np.argmax(p,axis=1)\n",
    "    target_cat = np.argmax(Yval,axis=1)\n",
    "    print(\"Number and fraction of good prediction\")\n",
    "    print(len(np.where( p_cat == target_cat )[0]))\n",
    "    print(len(np.where( p_cat == target_cat )[0])/float(len(p_cat)),\"%\")\n"
   ]
  },
  {
   "cell_type": "markdown",
   "metadata": {},
   "source": [
    "# Compiling and training the networks"
   ]
  },
  {
   "cell_type": "markdown",
   "metadata": {},
   "source": [
    "## Model 1 "
   ]
  },
  {
   "cell_type": "code",
   "execution_count": null,
   "metadata": {},
   "outputs": [],
   "source": [
    "# Defining here the layers\n",
    "inp = Input(shape=(14,))\n",
    "l1 = Dense(50, input_shape=(14,), activation='sigmoid')(inp)\n",
    "l2 = Dense(20, input_shape=(50,), activation='sigmoid')(l1)\n",
    "l3 = Dense(10, input_shape=(20,), activation='sigmoid')(l2)\n",
    "out = Dense(3, input_shape=(10,), activation='softmax')(l3) # sigmoid is needed as dealing with the output between 0 and 1 \n",
    "# Specifying here the input and output of a model --> Model(input, output)\n",
    "ffNN = Model(inp,out) \n",
    "# comment: 4 Layers of 50,20,10,3 nodes (starting from 6 and then following a representation 50-dim, 20-dim, 10-dim)\n",
    "ffNN.summary()\n",
    "ffNN.compile(optimizer='RMSprop', loss='categorical_crossentropy') \n",
    "histo = ffNN.fit(normX, Y, batch_size=100, epochs=50, verbose=1, validation_data=(normXval,Yval))\n",
    "# crossentropy loss function is usually used in classificaation\n",
    "# Training over normX sample and validating over normXval\n",
    "# serialize model to JSON\n",
    "mod1 = ffNN.to_json()\n",
    "with open(\"trained_networks/model_1.json\", \"w\") as json_file:\n",
    "    json_file.write(mod1)\n",
    "# serialize weights to HDF5\n",
    "ffNN.save_weights(\"trained_networks/model_1.h5\")\n",
    "print(\"Saved model to disk\")\n"
   ]
  },
  {
   "cell_type": "code",
   "execution_count": null,
   "metadata": {},
   "outputs": [],
   "source": [
    "print(histo.history.keys())"
   ]
  },
  {
   "cell_type": "code",
   "execution_count": null,
   "metadata": {},
   "outputs": [],
   "source": [
    "# summarize history for loss\n",
    "plt.plot(histo.history['loss'])\n",
    "plt.plot(histo.history['val_loss'])\n",
    "plt.title('model loss')\n",
    "plt.ylabel('Loss')\n",
    "plt.xlabel('Epoch')\n",
    "plt.legend(['train', 'test'], loc='best')\n",
    "plt.show()\n",
    "accuracy(ffNN.predict(normXval))"
   ]
  },
  {
   "cell_type": "markdown",
   "metadata": {},
   "source": [
    "## Model 2"
   ]
  },
  {
   "cell_type": "code",
   "execution_count": null,
   "metadata": {},
   "outputs": [],
   "source": [
    "# Add a method to stop training when validation is getting worse\n",
    "from keras.callbacks import EarlyStopping"
   ]
  },
  {
   "cell_type": "code",
   "execution_count": null,
   "metadata": {},
   "outputs": [],
   "source": [
    "# Defining here the layers\n",
    "inp = Input(shape=(14,))\n",
    "l1 = Dense(50, input_shape=(14,), activation='sigmoid')(inp)\n",
    "l2 = Dense(20, input_shape=(50,), activation='sigmoid')(l1)\n",
    "l3 = Dense(10, input_shape=(20,), activation='sigmoid')(l2)\n",
    "out = Dense(3, input_shape=(10,), activation='softmax')(l3) # sigmoid is needed as dealing with the output between 0 and 1 \n",
    "# Specifying here the input and output of a model --> Model(input, output)\n",
    "ffNN = Model(inp,out) \n",
    "# comment: 4 Layers of 50,20,10,3 nodes (starting from 6 and then following a representation 50-dim, 20-dim, 10-dim)\n",
    "ffNN.summary()\n",
    "ffNN.compile(optimizer='RMSprop', loss='categorical_crossentropy') \n",
    "histo = ffNN.fit(normX, Y, batch_size=100, epochs=50, callbacks=[EarlyStopping(monitor='val_loss', min_delta=0.05, patience=3, verbose=0, mode='min')], verbose=1, validation_data=(normXval,Yval))\n",
    "mod2 = ffNN.to_json()\n",
    "with open(\"trained_networks/model_2.json\", \"w\") as json_file:\n",
    "    json_file.write(mod2)\n",
    "# serialize weights to HDF5\n",
    "ffNN.save_weights(\"trained_networks/model_2.h5\")\n",
    "print(\"Saved model to disk\")"
   ]
  },
  {
   "cell_type": "code",
   "execution_count": null,
   "metadata": {},
   "outputs": [],
   "source": [
    "# summarize history for loss\n",
    "plt.plot(histo.history['loss'])\n",
    "plt.plot(histo.history['val_loss'])\n",
    "plt.title('model loss')\n",
    "plt.ylabel('Loss')\n",
    "plt.xlabel('Epoch')\n",
    "plt.legend(['training', 'validation'], loc='best')\n",
    "plt.show()\n",
    "accuracy(ffNN.predict(normXval))"
   ]
  },
  {
   "cell_type": "markdown",
   "metadata": {},
   "source": [
    "## Model 3"
   ]
  },
  {
   "cell_type": "code",
   "execution_count": null,
   "metadata": {
    "scrolled": true
   },
   "outputs": [],
   "source": [
    "# Defining here the layers\n",
    "inp = Input(shape=(14,))\n",
    "l1 = Dense(50, input_shape=(14,), activation='sigmoid')(inp)\n",
    "l2 = Dense(20, input_shape=(50,), activation='sigmoid')(l1)\n",
    "l3 = Dense(10, input_shape=(20,), activation='sigmoid')(l2) \n",
    "out = Dense(3, input_shape=(10,), activation='softmax')(l3)\n",
    "ffNN = Model(inp,out) \n",
    "# comment: 4 Layers of 50,20,10,3 nodes (starting from 14-dim and then following a representation 50-dim, 20-dim, 10-dim)\n",
    "ffNN.summary()\n",
    "ffNN.compile(optimizer='adam', loss='categorical_crossentropy', metrics=['accuracy']) \n",
    "histo = ffNN.fit(normX, Y, batch_size=100, epochs=50, verbose=1, validation_data=(normXval,Yval))\n",
    "mod3 = ffNN.to_json()\n",
    "with open(\"trained_networks/model_3.json\", \"w\") as json_file:\n",
    "    json_file.write(mod3)\n",
    "# serialize weights to HDF5\n",
    "ffNN.save_weights(\"trained_networks/model_3.h5\")\n",
    "print(\"Saved model to disk\")"
   ]
  },
  {
   "cell_type": "code",
   "execution_count": null,
   "metadata": {
    "scrolled": false
   },
   "outputs": [],
   "source": [
    "# loss\n",
    "plt.plot(histo.history['loss'])\n",
    "plt.plot(histo.history['val_loss'])\n",
    "plt.title('model loss')\n",
    "plt.ylabel('Loss')\n",
    "plt.xlabel('Epoch')\n",
    "plt.legend(['training', 'validation'], loc='best')\n",
    "plt.show()\n",
    "# accuracy\n",
    "plt.plot(histo.history['acc'])\n",
    "plt.plot(histo.history['val_acc'])\n",
    "plt.title('model accuracy')\n",
    "plt.ylabel('Accuracy')\n",
    "plt.xlabel('Epoch')\n",
    "plt.legend(['training', 'validation'], loc='best')\n",
    "plt.show()\n",
    "accuracy(ffNN.predict(normXval))"
   ]
  },
  {
   "cell_type": "code",
   "execution_count": null,
   "metadata": {
    "scrolled": true
   },
   "outputs": [],
   "source": [
    "# A look at the output of the ffNN: set of probability (the highest means the best choice, and depending on the position it can be tt, QCD or W+jets)\n",
    "print(ffNN.predict(normXval))"
   ]
  },
  {
   "cell_type": "markdown",
   "metadata": {},
   "source": [
    "# Confusion matrix"
   ]
  },
  {
   "cell_type": "code",
   "execution_count": null,
   "metadata": {},
   "outputs": [],
   "source": [
    "# Make confusion matrix\n",
    "confu_matrix = np.zeros((3,3))\n",
    "print(confu_matrix)\n",
    "#plot_confusion_matrix(confu_matrix,['QCD','TTbar','W+jets'],title='Confusion Matrix')"
   ]
  },
  {
   "cell_type": "markdown",
   "metadata": {},
   "source": [
    "# ROC curve"
   ]
  },
  {
   "cell_type": "code",
   "execution_count": null,
   "metadata": {
    "scrolled": true
   },
   "outputs": [],
   "source": [
    "## Make ROC curve\n",
    "prob = ffNN.predict(normXval)\n",
    "print(prob[:,1])\n",
    "print(Yval[:,1])\n",
    "from sklearn.metrics import roc_curve, auc\n",
    "fpr, tpr, thresholds = roc_curve(Yval[:,1], prob[:, 1])\n",
    "# with the [:,1] we extract only the results of the column of ttbar [0,1,0]\n",
    "area = auc(fpr, tpr)\n",
    "plt.figure()\n",
    "plt.plot(fpr,tpr,label=\"DenseNN HLF (AUC): {}\".format(area))\n",
    "plt.ylabel('Signal Efficiency (TPR)')\n",
    "plt.xlabel('Signal Contamination (FPR)')\n",
    "plt.legend(loc='best')\n",
    "plt.show()\n",
    "#print(thresholds)\n",
    "#print(fpr)"
   ]
  },
  {
   "cell_type": "code",
   "execution_count": null,
   "metadata": {},
   "outputs": [],
   "source": [
    "# 1- FPR ( at TPR=0.95) \n",
    "print(1-fpr[np.where((tpr >=0.94999) & (tpr <=0.950100000))[0]])\n",
    "# 1- FPR ( at TPR=0.90) \n",
    "print(1-fpr[np.where((tpr >=0.89999) & (tpr <=0.900100000))[0]])"
   ]
  },
  {
   "cell_type": "markdown",
   "metadata": {},
   "source": [
    "# Model 4"
   ]
  },
  {
   "cell_type": "code",
   "execution_count": null,
   "metadata": {},
   "outputs": [],
   "source": [
    "# Defining here the layers\n",
    "inp = Input(shape=(14,))\n",
    "l1 = Dense(200, input_shape=(14,), activation='sigmoid')(inp)\n",
    "l2 = Dense(50, input_shape=(200,), activation='sigmoid')(l1)\n",
    "out = Dense(3, input_shape=(50,), activation='softmax')(l2) # sigmoid is needed as dealing with the output between 0 and 1 \n",
    "# Specifying here the input and output of a model --> Model(input, output)\n",
    "ffNN = Model(inp,out) \n",
    "# comment: 4 Layers of 50,20,10,3 nodes (starting from 6 and then following a representation 50-dim, 20-dim, 10-dim)\n",
    "ffNN.summary()\n",
    "ffNN.compile(optimizer='adam', loss='categorical_crossentropy') \n",
    "histo = ffNN.fit(normX, Y, batch_size=100, epochs=50, verbose=1, validation_data=(normXval,Yval))"
   ]
  },
  {
   "cell_type": "code",
   "execution_count": null,
   "metadata": {},
   "outputs": [],
   "source": [
    "## Make ROC curve\n",
    "prob = ffNN.predict(normXval)\n",
    "from sklearn.metrics import roc_curve, auc\n",
    "fpr, tpr, thresholds = roc_curve(Yval[:,1], prob[:, 1])\n",
    "# with the [:,1] we extract only the results of the column of ttbar [0,1,0]\n",
    "area = auc(fpr, tpr)\n",
    "plt.figure()\n",
    "plt.plot(fpr,tpr,label=\"DenseNN HLF (AUC): {}\".format(area))\n",
    "plt.ylabel('Signal Efficiency (TPR)')\n",
    "plt.xlabel('Signal Contamination (FPR)')\n",
    "plt.legend(loc='best')\n",
    "plt.show()\n",
    "#print(thresholds)\n",
    "#print(fpr)"
   ]
  },
  {
   "cell_type": "code",
   "execution_count": null,
   "metadata": {
    "scrolled": true
   },
   "outputs": [],
   "source": [
    "# 95% \n",
    "print(fpr[np.where((tpr >=0.94999) & (tpr <=0.950100000))[0]])"
   ]
  },
  {
   "cell_type": "markdown",
   "metadata": {},
   "source": [
    "# Model 5 (as model 3 but w/ dropout layer)"
   ]
  },
  {
   "cell_type": "code",
   "execution_count": 21,
   "metadata": {
    "scrolled": true
   },
   "outputs": [
    {
     "name": "stdout",
     "output_type": "stream",
     "text": [
      "_________________________________________________________________\n",
      "Layer (type)                 Output Shape              Param #   \n",
      "=================================================================\n",
      "input_1 (InputLayer)         (None, 14)                0         \n",
      "_________________________________________________________________\n",
      "dense_1 (Dense)              (None, 50)                750       \n",
      "_________________________________________________________________\n",
      "dense_2 (Dense)              (None, 20)                1020      \n",
      "_________________________________________________________________\n",
      "dense_3 (Dense)              (None, 10)                210       \n",
      "_________________________________________________________________\n",
      "dropout_1 (Dropout)          (None, 10)                0         \n",
      "_________________________________________________________________\n",
      "dense_4 (Dense)              (None, 3)                 33        \n",
      "=================================================================\n",
      "Total params: 2,013\n",
      "Trainable params: 2,013\n",
      "Non-trainable params: 0\n",
      "_________________________________________________________________\n",
      "Train on 330000 samples, validate on 52500 samples\n",
      "Epoch 1/150\n",
      "330000/330000 [==============================] - 3s - loss: 0.8252 - acc: 0.5887 - val_loss: 0.5778 - val_acc: 0.7538\n",
      "Epoch 2/150\n",
      "330000/330000 [==============================] - 4s - loss: 0.5995 - acc: 0.7473 - val_loss: 0.5458 - val_acc: 0.7699\n",
      "Epoch 3/150\n",
      "330000/330000 [==============================] - 4s - loss: 0.5711 - acc: 0.7632 - val_loss: 0.5474 - val_acc: 0.7638\n",
      "Epoch 4/150\n",
      "330000/330000 [==============================] - 4s - loss: 0.5611 - acc: 0.7695 - val_loss: 0.5399 - val_acc: 0.7668\n",
      "Epoch 5/150\n",
      "330000/330000 [==============================] - 4s - loss: 0.5550 - acc: 0.7733 - val_loss: 0.5177 - val_acc: 0.7807\n",
      "Epoch 6/150\n",
      "330000/330000 [==============================] - 4s - loss: 0.5501 - acc: 0.7753 - val_loss: 0.5292 - val_acc: 0.7718\n",
      "Epoch 7/150\n",
      "330000/330000 [==============================] - 4s - loss: 0.5467 - acc: 0.7774 - val_loss: 0.5231 - val_acc: 0.7750\n",
      "Epoch 8/150\n",
      "330000/330000 [==============================] - 4s - loss: 0.5446 - acc: 0.7784 - val_loss: 0.5422 - val_acc: 0.7707\n",
      "Epoch 9/150\n",
      "330000/330000 [==============================] - 4s - loss: 0.5405 - acc: 0.7800 - val_loss: 0.5356 - val_acc: 0.7684\n",
      "Epoch 10/150\n",
      "330000/330000 [==============================] - 4s - loss: 0.5387 - acc: 0.7806 - val_loss: 0.5346 - val_acc: 0.7708\n",
      "Epoch 11/150\n",
      "330000/330000 [==============================] - 4s - loss: 0.5347 - acc: 0.7831 - val_loss: 0.5277 - val_acc: 0.7755\n",
      "Epoch 12/150\n",
      "330000/330000 [==============================] - 3s - loss: 0.5296 - acc: 0.7864 - val_loss: 0.5205 - val_acc: 0.7761\n",
      "Epoch 13/150\n",
      "330000/330000 [==============================] - 3s - loss: 0.5271 - acc: 0.7884 - val_loss: 0.5175 - val_acc: 0.7831\n",
      "Epoch 14/150\n",
      "330000/330000 [==============================] - 4s - loss: 0.5231 - acc: 0.7930 - val_loss: 0.5008 - val_acc: 0.7926\n",
      "Epoch 15/150\n",
      "330000/330000 [==============================] - 4s - loss: 0.5193 - acc: 0.7933 - val_loss: 0.5278 - val_acc: 0.7791\n",
      "Epoch 16/150\n",
      "330000/330000 [==============================] - 4s - loss: 0.5184 - acc: 0.7934 - val_loss: 0.5071 - val_acc: 0.7858\n",
      "Epoch 17/150\n",
      "330000/330000 [==============================] - 4s - loss: 0.5168 - acc: 0.7931 - val_loss: 0.5077 - val_acc: 0.7886\n",
      "Epoch 18/150\n",
      "330000/330000 [==============================] - 4s - loss: 0.5153 - acc: 0.7932 - val_loss: 0.5081 - val_acc: 0.7890\n",
      "Epoch 19/150\n",
      "330000/330000 [==============================] - 4s - loss: 0.5138 - acc: 0.7939 - val_loss: 0.5092 - val_acc: 0.7867\n",
      "Epoch 20/150\n",
      "330000/330000 [==============================] - 4s - loss: 0.5135 - acc: 0.7943 - val_loss: 0.4965 - val_acc: 0.7942\n",
      "Epoch 21/150\n",
      "330000/330000 [==============================] - 4s - loss: 0.5120 - acc: 0.7952 - val_loss: 0.4895 - val_acc: 0.7954\n",
      "Epoch 22/150\n",
      "330000/330000 [==============================] - 4s - loss: 0.5113 - acc: 0.7953 - val_loss: 0.5037 - val_acc: 0.7890\n",
      "Epoch 23/150\n",
      "330000/330000 [==============================] - 4s - loss: 0.5089 - acc: 0.7954 - val_loss: 0.5037 - val_acc: 0.7923\n",
      "Epoch 24/150\n",
      "330000/330000 [==============================] - 4s - loss: 0.5089 - acc: 0.7960 - val_loss: 0.5066 - val_acc: 0.7867\n",
      "Epoch 25/150\n",
      "330000/330000 [==============================] - 4s - loss: 0.5077 - acc: 0.7968 - val_loss: 0.4990 - val_acc: 0.7926\n",
      "Epoch 26/150\n",
      "330000/330000 [==============================] - 4s - loss: 0.5076 - acc: 0.7967 - val_loss: 0.5049 - val_acc: 0.7885\n",
      "Epoch 27/150\n",
      "330000/330000 [==============================] - 4s - loss: 0.5069 - acc: 0.7964 - val_loss: 0.5101 - val_acc: 0.7850\n",
      "Epoch 28/150\n",
      "330000/330000 [==============================] - 4s - loss: 0.5060 - acc: 0.7966 - val_loss: 0.4910 - val_acc: 0.7958\n",
      "Epoch 29/150\n",
      "330000/330000 [==============================] - 4s - loss: 0.5051 - acc: 0.7974 - val_loss: 0.5124 - val_acc: 0.7853\n",
      "Epoch 30/150\n",
      "330000/330000 [==============================] - 4s - loss: 0.5043 - acc: 0.7981 - val_loss: 0.4961 - val_acc: 0.7924\n",
      "Epoch 31/150\n",
      "330000/330000 [==============================] - 4s - loss: 0.5043 - acc: 0.7973 - val_loss: 0.5029 - val_acc: 0.7905\n",
      "Epoch 32/150\n",
      "330000/330000 [==============================] - 4s - loss: 0.5034 - acc: 0.7981 - val_loss: 0.4815 - val_acc: 0.8033\n",
      "Epoch 33/150\n",
      "330000/330000 [==============================] - 4s - loss: 0.5023 - acc: 0.7985 - val_loss: 0.4998 - val_acc: 0.7885\n",
      "Epoch 34/150\n",
      "330000/330000 [==============================] - 4s - loss: 0.5030 - acc: 0.7986 - val_loss: 0.4984 - val_acc: 0.7883\n",
      "Epoch 35/150\n",
      "330000/330000 [==============================] - 4s - loss: 0.5020 - acc: 0.7985 - val_loss: 0.4986 - val_acc: 0.7872\n",
      "Epoch 36/150\n",
      "330000/330000 [==============================] - 3s - loss: 0.5014 - acc: 0.7988 - val_loss: 0.4822 - val_acc: 0.7990\n",
      "Epoch 37/150\n",
      "330000/330000 [==============================] - 4s - loss: 0.5014 - acc: 0.7992 - val_loss: 0.5044 - val_acc: 0.7859\n",
      "Epoch 38/150\n",
      "330000/330000 [==============================] - 4s - loss: 0.5017 - acc: 0.7988 - val_loss: 0.4906 - val_acc: 0.7949\n",
      "Epoch 39/150\n",
      "330000/330000 [==============================] - 4s - loss: 0.4996 - acc: 0.7998 - val_loss: 0.4840 - val_acc: 0.7986\n",
      "Epoch 40/150\n",
      "330000/330000 [==============================] - 4s - loss: 0.5004 - acc: 0.8001 - val_loss: 0.4983 - val_acc: 0.7903\n",
      "Epoch 41/150\n",
      "330000/330000 [==============================] - 4s - loss: 0.4993 - acc: 0.8014 - val_loss: 0.5007 - val_acc: 0.7872\n",
      "Epoch 42/150\n",
      "330000/330000 [==============================] - 4s - loss: 0.4998 - acc: 0.7999 - val_loss: 0.4906 - val_acc: 0.7931\n",
      "Epoch 43/150\n",
      "330000/330000 [==============================] - 4s - loss: 0.5000 - acc: 0.7996 - val_loss: 0.4932 - val_acc: 0.7891\n",
      "Epoch 44/150\n",
      "330000/330000 [==============================] - 4s - loss: 0.4979 - acc: 0.8005 - val_loss: 0.4859 - val_acc: 0.7944\n",
      "Epoch 45/150\n",
      "330000/330000 [==============================] - 4s - loss: 0.4978 - acc: 0.8012 - val_loss: 0.4966 - val_acc: 0.7943\n",
      "Epoch 46/150\n",
      "330000/330000 [==============================] - 4s - loss: 0.4987 - acc: 0.8012 - val_loss: 0.4857 - val_acc: 0.7951\n",
      "Epoch 47/150\n",
      "330000/330000 [==============================] - 4s - loss: 0.4967 - acc: 0.8020 - val_loss: 0.4766 - val_acc: 0.8005\n",
      "Epoch 48/150\n",
      "330000/330000 [==============================] - 4s - loss: 0.4962 - acc: 0.8025 - val_loss: 0.4925 - val_acc: 0.7933\n",
      "Epoch 49/150\n",
      "330000/330000 [==============================] - 4s - loss: 0.4961 - acc: 0.8024 - val_loss: 0.5049 - val_acc: 0.7876\n",
      "Epoch 50/150\n",
      "330000/330000 [==============================] - 4s - loss: 0.4956 - acc: 0.8025 - val_loss: 0.4885 - val_acc: 0.7917\n",
      "Epoch 51/150\n",
      "330000/330000 [==============================] - 4s - loss: 0.4950 - acc: 0.8034 - val_loss: 0.4873 - val_acc: 0.7924\n",
      "Epoch 52/150\n",
      "330000/330000 [==============================] - 3s - loss: 0.4956 - acc: 0.8029 - val_loss: 0.4944 - val_acc: 0.7931\n",
      "Epoch 53/150\n",
      "330000/330000 [==============================] - 4s - loss: 0.4943 - acc: 0.8034 - val_loss: 0.4880 - val_acc: 0.7921\n",
      "Epoch 54/150\n"
     ]
    },
    {
     "name": "stdout",
     "output_type": "stream",
     "text": [
      "330000/330000 [==============================] - 3s - loss: 0.4936 - acc: 0.8044 - val_loss: 0.4866 - val_acc: 0.7980\n",
      "Epoch 55/150\n",
      "330000/330000 [==============================] - 4s - loss: 0.4920 - acc: 0.8045 - val_loss: 0.4843 - val_acc: 0.7982\n",
      "Epoch 56/150\n",
      "330000/330000 [==============================] - 4s - loss: 0.4915 - acc: 0.8047 - val_loss: 0.4831 - val_acc: 0.7972\n",
      "Epoch 57/150\n",
      "330000/330000 [==============================] - 3s - loss: 0.4900 - acc: 0.8055 - val_loss: 0.4919 - val_acc: 0.7912\n",
      "Epoch 58/150\n",
      "330000/330000 [==============================] - 4s - loss: 0.4907 - acc: 0.8056 - val_loss: 0.4953 - val_acc: 0.7885\n",
      "Epoch 59/150\n",
      "330000/330000 [==============================] - 4s - loss: 0.4914 - acc: 0.8056 - val_loss: 0.4905 - val_acc: 0.7914\n",
      "Epoch 60/150\n",
      "330000/330000 [==============================] - 4s - loss: 0.4905 - acc: 0.8054 - val_loss: 0.4997 - val_acc: 0.7897\n",
      "Epoch 61/150\n",
      "330000/330000 [==============================] - 4s - loss: 0.4890 - acc: 0.8063 - val_loss: 0.4908 - val_acc: 0.7936\n",
      "Epoch 62/150\n",
      "330000/330000 [==============================] - 4s - loss: 0.4898 - acc: 0.8058 - val_loss: 0.4852 - val_acc: 0.7944\n",
      "Epoch 63/150\n",
      "330000/330000 [==============================] - 4s - loss: 0.4884 - acc: 0.8065 - val_loss: 0.4875 - val_acc: 0.7941\n",
      "Epoch 64/150\n",
      "330000/330000 [==============================] - 3s - loss: 0.4872 - acc: 0.8060 - val_loss: 0.4944 - val_acc: 0.7907\n",
      "Epoch 65/150\n",
      "330000/330000 [==============================] - 4s - loss: 0.4875 - acc: 0.8070 - val_loss: 0.4879 - val_acc: 0.7904\n",
      "Epoch 66/150\n",
      "330000/330000 [==============================] - 4s - loss: 0.4880 - acc: 0.8062 - val_loss: 0.4800 - val_acc: 0.7990\n",
      "Epoch 67/150\n",
      "330000/330000 [==============================] - 4s - loss: 0.4877 - acc: 0.8064 - val_loss: 0.4828 - val_acc: 0.7933\n",
      "Epoch 68/150\n",
      "330000/330000 [==============================] - 4s - loss: 0.4869 - acc: 0.8066 - val_loss: 0.4894 - val_acc: 0.7932\n",
      "Epoch 69/150\n",
      "330000/330000 [==============================] - 4s - loss: 0.4867 - acc: 0.8068 - val_loss: 0.4831 - val_acc: 0.7968\n",
      "Epoch 70/150\n",
      "330000/330000 [==============================] - 4s - loss: 0.4865 - acc: 0.8075 - val_loss: 0.5043 - val_acc: 0.7845\n",
      "Epoch 71/150\n",
      "330000/330000 [==============================] - 4s - loss: 0.4849 - acc: 0.8079 - val_loss: 0.5018 - val_acc: 0.7835\n",
      "Epoch 72/150\n",
      "330000/330000 [==============================] - 4s - loss: 0.4840 - acc: 0.8071 - val_loss: 0.5050 - val_acc: 0.7827\n",
      "Epoch 73/150\n",
      "330000/330000 [==============================] - 4s - loss: 0.4840 - acc: 0.8082 - val_loss: 0.5072 - val_acc: 0.7830\n",
      "Epoch 74/150\n",
      "330000/330000 [==============================] - 4s - loss: 0.4836 - acc: 0.8080 - val_loss: 0.4873 - val_acc: 0.7932\n",
      "Epoch 75/150\n",
      "330000/330000 [==============================] - 4s - loss: 0.4819 - acc: 0.8095 - val_loss: 0.4844 - val_acc: 0.7921\n",
      "Epoch 76/150\n",
      "330000/330000 [==============================] - 4s - loss: 0.4795 - acc: 0.8105 - val_loss: 0.4721 - val_acc: 0.8005\n",
      "Epoch 77/150\n",
      "330000/330000 [==============================] - 3s - loss: 0.4794 - acc: 0.8100 - val_loss: 0.4887 - val_acc: 0.7939\n",
      "Epoch 78/150\n",
      "330000/330000 [==============================] - 4s - loss: 0.4774 - acc: 0.8108 - val_loss: 0.4800 - val_acc: 0.7960\n",
      "Epoch 79/150\n",
      "330000/330000 [==============================] - 4s - loss: 0.4739 - acc: 0.8133 - val_loss: 0.4690 - val_acc: 0.8036\n",
      "Epoch 80/150\n",
      "330000/330000 [==============================] - 4s - loss: 0.4710 - acc: 0.8150 - val_loss: 0.4703 - val_acc: 0.8015\n",
      "Epoch 81/150\n",
      "330000/330000 [==============================] - 4s - loss: 0.4692 - acc: 0.8183 - val_loss: 0.4624 - val_acc: 0.8070\n",
      "Epoch 82/150\n",
      "330000/330000 [==============================] - 4s - loss: 0.4672 - acc: 0.8186 - val_loss: 0.4592 - val_acc: 0.8089\n",
      "Epoch 83/150\n",
      "330000/330000 [==============================] - 4s - loss: 0.4645 - acc: 0.8210 - val_loss: 0.4572 - val_acc: 0.8103\n",
      "Epoch 84/150\n",
      "330000/330000 [==============================] - 4s - loss: 0.4631 - acc: 0.8215 - val_loss: 0.4519 - val_acc: 0.8121\n",
      "Epoch 85/150\n",
      "330000/330000 [==============================] - 4s - loss: 0.4599 - acc: 0.8223 - val_loss: 0.4563 - val_acc: 0.8108\n",
      "Epoch 86/150\n",
      "330000/330000 [==============================] - 4s - loss: 0.4578 - acc: 0.8223 - val_loss: 0.4461 - val_acc: 0.8176\n",
      "Epoch 87/150\n",
      "330000/330000 [==============================] - 4s - loss: 0.4557 - acc: 0.8256 - val_loss: 0.4403 - val_acc: 0.8197\n",
      "Epoch 88/150\n",
      "330000/330000 [==============================] - 4s - loss: 0.4555 - acc: 0.8251 - val_loss: 0.4647 - val_acc: 0.8058\n",
      "Epoch 89/150\n",
      "330000/330000 [==============================] - 4s - loss: 0.4533 - acc: 0.8251 - val_loss: 0.4468 - val_acc: 0.8197\n",
      "Epoch 90/150\n",
      "330000/330000 [==============================] - 3s - loss: 0.4519 - acc: 0.8265 - val_loss: 0.4344 - val_acc: 0.8250\n",
      "Epoch 91/150\n",
      "330000/330000 [==============================] - 3s - loss: 0.4505 - acc: 0.8276 - val_loss: 0.4434 - val_acc: 0.8234\n",
      "Epoch 92/150\n",
      "330000/330000 [==============================] - 4s - loss: 0.4479 - acc: 0.8285 - val_loss: 0.4259 - val_acc: 0.8296\n",
      "Epoch 93/150\n",
      "330000/330000 [==============================] - 4s - loss: 0.4479 - acc: 0.8290 - val_loss: 0.4501 - val_acc: 0.8158\n",
      "Epoch 94/150\n",
      "330000/330000 [==============================] - 4s - loss: 0.4461 - acc: 0.8298 - val_loss: 0.4546 - val_acc: 0.8162\n",
      "Epoch 95/150\n",
      "330000/330000 [==============================] - 3s - loss: 0.4437 - acc: 0.8319 - val_loss: 0.4487 - val_acc: 0.8213\n",
      "Epoch 96/150\n",
      "330000/330000 [==============================] - 4s - loss: 0.4420 - acc: 0.8322 - val_loss: 0.4460 - val_acc: 0.8210\n",
      "Epoch 97/150\n",
      "330000/330000 [==============================] - 4s - loss: 0.4430 - acc: 0.8318 - val_loss: 0.4403 - val_acc: 0.8244\n",
      "Epoch 98/150\n",
      "330000/330000 [==============================] - 4s - loss: 0.4413 - acc: 0.8321 - val_loss: 0.4202 - val_acc: 0.8332\n",
      "Epoch 99/150\n",
      "330000/330000 [==============================] - 4s - loss: 0.4397 - acc: 0.8315 - val_loss: 0.4319 - val_acc: 0.8302\n",
      "Epoch 100/150\n",
      "330000/330000 [==============================] - 3s - loss: 0.4411 - acc: 0.8316 - val_loss: 0.4484 - val_acc: 0.8186\n",
      "Epoch 101/150\n",
      "330000/330000 [==============================] - 4s - loss: 0.4388 - acc: 0.8333 - val_loss: 0.4474 - val_acc: 0.8189\n",
      "Epoch 102/150\n",
      "330000/330000 [==============================] - 4s - loss: 0.4381 - acc: 0.8347 - val_loss: 0.4353 - val_acc: 0.8241\n",
      "Epoch 103/150\n",
      "330000/330000 [==============================] - 3s - loss: 0.4366 - acc: 0.8355 - val_loss: 0.4184 - val_acc: 0.8341\n",
      "Epoch 104/150\n",
      "330000/330000 [==============================] - 4s - loss: 0.4367 - acc: 0.8345 - val_loss: 0.4494 - val_acc: 0.8178\n",
      "Epoch 105/150\n",
      "330000/330000 [==============================] - 4s - loss: 0.4369 - acc: 0.8354 - val_loss: 0.4250 - val_acc: 0.8296\n",
      "Epoch 106/150\n",
      "330000/330000 [==============================] - 4s - loss: 0.4341 - acc: 0.8356 - val_loss: 0.4289 - val_acc: 0.8267\n",
      "Epoch 107/150\n",
      "330000/330000 [==============================] - 4s - loss: 0.4354 - acc: 0.8355 - val_loss: 0.4432 - val_acc: 0.8228\n",
      "Epoch 108/150\n",
      "330000/330000 [==============================] - 4s - loss: 0.4339 - acc: 0.8357 - val_loss: 0.4454 - val_acc: 0.8210\n",
      "Epoch 109/150\n",
      "330000/330000 [==============================] - 4s - loss: 0.4333 - acc: 0.8364 - val_loss: 0.4421 - val_acc: 0.8219\n",
      "Epoch 110/150\n",
      "330000/330000 [==============================] - 4s - loss: 0.4325 - acc: 0.8358 - val_loss: 0.4359 - val_acc: 0.8288\n",
      "Epoch 111/150\n",
      "330000/330000 [==============================] - 4s - loss: 0.4316 - acc: 0.8361 - val_loss: 0.4188 - val_acc: 0.8310\n",
      "Epoch 112/150\n",
      "330000/330000 [==============================] - 4s - loss: 0.4308 - acc: 0.8368 - val_loss: 0.4103 - val_acc: 0.8344\n",
      "Epoch 113/150\n",
      "330000/330000 [==============================] - 4s - loss: 0.4317 - acc: 0.8359 - val_loss: 0.4327 - val_acc: 0.8275\n",
      "Epoch 114/150\n",
      "330000/330000 [==============================] - 4s - loss: 0.4293 - acc: 0.8375 - val_loss: 0.4465 - val_acc: 0.8206\n",
      "Epoch 115/150\n",
      "330000/330000 [==============================] - 4s - loss: 0.4299 - acc: 0.8372 - val_loss: 0.4187 - val_acc: 0.8316\n",
      "Epoch 116/150\n"
     ]
    },
    {
     "name": "stdout",
     "output_type": "stream",
     "text": [
      "330000/330000 [==============================] - 4s - loss: 0.4295 - acc: 0.8364 - val_loss: 0.4274 - val_acc: 0.8259\n",
      "Epoch 117/150\n",
      "330000/330000 [==============================] - 4s - loss: 0.4299 - acc: 0.8372 - val_loss: 0.4130 - val_acc: 0.8336\n",
      "Epoch 118/150\n",
      "330000/330000 [==============================] - 4s - loss: 0.4286 - acc: 0.8378 - val_loss: 0.4195 - val_acc: 0.8332\n",
      "Epoch 119/150\n",
      "330000/330000 [==============================] - 4s - loss: 0.4288 - acc: 0.8383 - val_loss: 0.4321 - val_acc: 0.8255\n",
      "Epoch 120/150\n",
      "330000/330000 [==============================] - 4s - loss: 0.4274 - acc: 0.8379 - val_loss: 0.4395 - val_acc: 0.8198\n",
      "Epoch 121/150\n",
      "330000/330000 [==============================] - 4s - loss: 0.4270 - acc: 0.8387 - val_loss: 0.4427 - val_acc: 0.8232\n",
      "Epoch 122/150\n",
      "330000/330000 [==============================] - 4s - loss: 0.4278 - acc: 0.8379 - val_loss: 0.4399 - val_acc: 0.8220\n",
      "Epoch 123/150\n",
      "330000/330000 [==============================] - 4s - loss: 0.4268 - acc: 0.8381 - val_loss: 0.4176 - val_acc: 0.8306\n",
      "Epoch 124/150\n",
      "330000/330000 [==============================] - 4s - loss: 0.4242 - acc: 0.8395 - val_loss: 0.4203 - val_acc: 0.8303\n",
      "Epoch 125/150\n",
      "330000/330000 [==============================] - 4s - loss: 0.4256 - acc: 0.8393 - val_loss: 0.4356 - val_acc: 0.8228\n",
      "Epoch 126/150\n",
      "330000/330000 [==============================] - 4s - loss: 0.4254 - acc: 0.8392 - val_loss: 0.4250 - val_acc: 0.8275\n",
      "Epoch 127/150\n",
      "330000/330000 [==============================] - 3s - loss: 0.4253 - acc: 0.8394 - val_loss: 0.4079 - val_acc: 0.8357\n",
      "Epoch 128/150\n",
      "330000/330000 [==============================] - 4s - loss: 0.4253 - acc: 0.8391 - val_loss: 0.4206 - val_acc: 0.8326\n",
      "Epoch 129/150\n",
      "330000/330000 [==============================] - 4s - loss: 0.4242 - acc: 0.8393 - val_loss: 0.4305 - val_acc: 0.8253\n",
      "Epoch 130/150\n",
      "330000/330000 [==============================] - 4s - loss: 0.4246 - acc: 0.8397 - val_loss: 0.4433 - val_acc: 0.8190\n",
      "Epoch 131/150\n",
      "330000/330000 [==============================] - 4s - loss: 0.4243 - acc: 0.8394 - val_loss: 0.4206 - val_acc: 0.8293\n",
      "Epoch 132/150\n",
      "330000/330000 [==============================] - 4s - loss: 0.4232 - acc: 0.8401 - val_loss: 0.4180 - val_acc: 0.8329\n",
      "Epoch 133/150\n",
      "330000/330000 [==============================] - 4s - loss: 0.4230 - acc: 0.8402 - val_loss: 0.4201 - val_acc: 0.8339\n",
      "Epoch 134/150\n",
      "330000/330000 [==============================] - 4s - loss: 0.4234 - acc: 0.8402 - val_loss: 0.4304 - val_acc: 0.8274\n",
      "Epoch 135/150\n",
      "330000/330000 [==============================] - 4s - loss: 0.4226 - acc: 0.8413 - val_loss: 0.4541 - val_acc: 0.8142\n",
      "Epoch 136/150\n",
      "330000/330000 [==============================] - 4s - loss: 0.4232 - acc: 0.8394 - val_loss: 0.4176 - val_acc: 0.8321\n",
      "Epoch 137/150\n",
      "330000/330000 [==============================] - 4s - loss: 0.4218 - acc: 0.8402 - val_loss: 0.4339 - val_acc: 0.8240\n",
      "Epoch 138/150\n",
      "330000/330000 [==============================] - 4s - loss: 0.4212 - acc: 0.8411 - val_loss: 0.4213 - val_acc: 0.8311\n",
      "Epoch 139/150\n",
      "330000/330000 [==============================] - 4s - loss: 0.4224 - acc: 0.8400 - val_loss: 0.4111 - val_acc: 0.8326\n",
      "Epoch 140/150\n",
      "330000/330000 [==============================] - 4s - loss: 0.4202 - acc: 0.8404 - val_loss: 0.4179 - val_acc: 0.8350\n",
      "Epoch 141/150\n",
      "330000/330000 [==============================] - 4s - loss: 0.4217 - acc: 0.8407 - val_loss: 0.4182 - val_acc: 0.8330\n",
      "Epoch 142/150\n",
      "330000/330000 [==============================] - 3s - loss: 0.4212 - acc: 0.8409 - val_loss: 0.4304 - val_acc: 0.8263\n",
      "Epoch 143/150\n",
      "330000/330000 [==============================] - 3s - loss: 0.4202 - acc: 0.8413 - val_loss: 0.4144 - val_acc: 0.8318\n",
      "Epoch 144/150\n",
      "330000/330000 [==============================] - 4s - loss: 0.4205 - acc: 0.8408 - val_loss: 0.4117 - val_acc: 0.8343\n",
      "Epoch 145/150\n",
      "330000/330000 [==============================] - 4s - loss: 0.4211 - acc: 0.8409 - val_loss: 0.4261 - val_acc: 0.8297\n",
      "Epoch 146/150\n",
      "330000/330000 [==============================] - 4s - loss: 0.4197 - acc: 0.8416 - val_loss: 0.4337 - val_acc: 0.8235\n",
      "Epoch 147/150\n",
      "330000/330000 [==============================] - 4s - loss: 0.4191 - acc: 0.8401 - val_loss: 0.4060 - val_acc: 0.8405\n",
      "Epoch 148/150\n",
      "330000/330000 [==============================] - 4s - loss: 0.4188 - acc: 0.8411 - val_loss: 0.4145 - val_acc: 0.8362\n",
      "Epoch 149/150\n",
      "330000/330000 [==============================] - 4s - loss: 0.4199 - acc: 0.8406 - val_loss: 0.4186 - val_acc: 0.8323\n",
      "Epoch 150/150\n",
      "330000/330000 [==============================] - 3s - loss: 0.4188 - acc: 0.8410 - val_loss: 0.4340 - val_acc: 0.8262\n",
      "Saved model to disk\n"
     ]
    }
   ],
   "source": [
    "# Defining here the layers\n",
    "inp = Input(shape=(14,))\n",
    "l1 = Dense(50, input_shape=(14,), activation='sigmoid')(inp)\n",
    "l2 = Dense(20, input_shape=(50,), activation='sigmoid')(l1)\n",
    "l3 = Dense(10, input_shape=(20,), activation='sigmoid')(l2) \n",
    "ldrop = Dropout(0.4)(l3)\n",
    "out = Dense(3, input_shape=(10,), activation='softmax')(ldrop)\n",
    "ffNN = Model(inp,out) \n",
    "# comment: 4 Layers of 50,20,10,3 nodes (starting from 14-dim and then following a representation 50-dim, 20-dim, 10-dim)\n",
    "ffNN.summary()\n",
    "ffNN.compile(optimizer='adam', loss='categorical_crossentropy', metrics=['accuracy']) \n",
    "histo = ffNN.fit(normX, Y, batch_size=100, epochs=150, verbose=1, validation_data=(normXval,Yval))\n",
    "mod5 = ffNN.to_json()\n",
    "with open(\"trained_networks/model_5.json\", \"w\") as json_file:\n",
    "    json_file.write(mod5)\n",
    "# serialize weights to HDF5\n",
    "ffNN.save_weights(\"trained_networks/model_5.h5\")\n",
    "print(\"Saved model to disk\")"
   ]
  },
  {
   "cell_type": "code",
   "execution_count": 22,
   "metadata": {},
   "outputs": [
    {
     "data": {
      "image/png": "[encoded data removed]",
      "text/plain": [
       "<matplotlib.figure.Figure at 0x7f62b4a38c88>"
      ]
     },
     "metadata": {},
     "output_type": "display_data"
    },
    {
     "data": {
      "image/png": "[encoded data removed]",
      "text/plain": [
       "<matplotlib.figure.Figure at 0x7f62b53f73c8>"
      ]
     },
     "metadata": {},
     "output_type": "display_data"
    }
   ],
   "source": [
    "# loss\n",
    "plt.plot(histo.history['loss'])\n",
    "plt.plot(histo.history['val_loss'])\n",
    "plt.title('model loss')\n",
    "plt.yscale('log')\n",
    "plt.ylabel('Loss')\n",
    "plt.xlabel('Epoch')\n",
    "plt.legend(['training', 'validation'], loc='best')\n",
    "plt.savefig(\"Loss_HLF.pdf\")\n",
    "plt.savefig(\"Loss_HLF.png\")\n",
    "plt.show()\n",
    "# accuracy\n",
    "plt.plot(histo.history['acc'])\n",
    "plt.plot(histo.history['val_acc'])\n",
    "plt.title('model accuracy')\n",
    "plt.ylabel('Accuracy')\n",
    "plt.xlabel('Epoch')\n",
    "plt.legend(['training', 'validation'], loc='best')\n",
    "plt.show()"
   ]
  },
  {
   "cell_type": "code",
   "execution_count": 23,
   "metadata": {
    "scrolled": true
   },
   "outputs": [
    {
     "data": {
      "image/png": "[encoded data removed]",
      "text/plain": [
       "<matplotlib.figure.Figure at 0x7f62b46a70b8>"
      ]
     },
     "metadata": {},
     "output_type": "display_data"
    }
   ],
   "source": [
    "## Make ROC curve\n",
    "prob = ffNN.predict(normXval)\n",
    "from sklearn.metrics import roc_curve, auc\n",
    "fpr, tpr, thresholds = roc_curve(Yval[:,1], prob[:, 1])\n",
    "# with the [:,1] we extract only the results of the column of ttbar [0,1,0], i.e our signal\n",
    "area = auc(fpr, tpr)\n",
    "plt.figure()\n",
    "plt.plot(fpr,tpr,label=\"DenseNN HLF (AUC): {}\".format(area))\n",
    "plt.ylabel('Signal Efficiency (TPR)')\n",
    "plt.xlabel('Signal Contamination (FPR)')\n",
    "plt.legend(loc='best')\n",
    "plt.savefig(\"ROC_HLF.pdf\")\n",
    "plt.savefig(\"ROC_HLF.png\")\n",
    "plt.show()\n",
    "np.save(\"FPR\", fpr)\n",
    "np.save(\"TPR\", tpr)\n",
    "with h5py.File(\"HLF_ROC.h5\",\"w\") as roc_file:\n",
    "    roc_file.create_dataset(\"FPR\", data=fpr)\n",
    "    roc_file.create_dataset(\"TPR\", data=tpr)\n",
    "#print(thresholds)\n",
    "#print(fpr)"
   ]
  },
  {
   "cell_type": "markdown",
   "metadata": {},
   "source": [
    "### Retrieving the table for the paper"
   ]
  },
  {
   "cell_type": "code",
   "execution_count": null,
   "metadata": {},
   "outputs": [],
   "source": [
    "from CMS_Deep_Learning.postprocessing.metrics import get_roc_points\n",
    "import pandas as pd\n",
    "\n",
    "# Indicies are in alphabetical order\n",
    "QCD, TTBAR, WJETS = 0, 1, 2 ;\n",
    "\n",
    "class_labels = {QCD:'QCD',TTBAR:r'$t\\bar{t}$', WJETS:\"W+jets\"}\n",
    "fix_tprs = []\n",
    "fix_fprs = []\n",
    "\n",
    "HLF_ROC_points = get_roc_points(\n",
    "                    Y=Yval,\n",
    "                    predictions=prob,\n",
    "                    class_labels=class_labels,\n",
    "                    true_class_index=TTBAR,\n",
    "                    tpr=tpr,\n",
    "                    fpr=fpr,\n",
    "                    class_fprs={QCD: [.1]})\n",
    "                   # class_fprs={QCD: [.0001,.00025,.0005,.001, .0015,.002, .0025,.005,.01,.025,.05,.075,.1]})\n",
    "\n",
    "\n",
    "#HLF_ROC_points = pd.DataFrame(HLF_ROC_points, columns=['tpr','fpr','fpr:W+jets','fpr:QCD','thresh'])\n",
    "#HLF_ROC_points.to_hdf(\"HLF_ROC_points.h5\",\"ROC_Points\")\n",
    "\n",
    "#print(\"HLF: TPRS and FPRS in percents(%)\")\n",
    "#print(100*HLF_ROC_points)"
   ]
  },
  {
   "cell_type": "code",
   "execution_count": null,
   "metadata": {},
   "outputs": [],
   "source": [
    "print(HLF_ROC_points)"
   ]
  },
  {
   "cell_type": "code",
   "execution_count": 24,
   "metadata": {},
   "outputs": [
    {
     "name": "stdout",
     "output_type": "stream",
     "text": [
      "[ 0.86557143  0.86554286  0.86554286  0.86548571  0.86542857  0.86542857\n",
      "  0.86537143  0.86531429  0.86514286  0.86514286  0.86505714  0.86505714\n",
      "  0.865       0.865       0.86497143  0.86497143  0.86488571  0.86482857\n",
      "  0.86477143]\n",
      "[ 0.93022857  0.9302      0.9302      0.93017143]\n"
     ]
    }
   ],
   "source": [
    "# 1- FPR ( at TPR=0.95) \n",
    "print(1-fpr[np.where((tpr >=0.94999) & (tpr <=0.95050000))[0]])\n",
    "# 1- FPR ( at TPR=0.90) \n",
    "print(1-fpr[np.where((tpr >=0.89999) & (tpr <=0.90010000))[0]])"
   ]
  },
  {
   "cell_type": "markdown",
   "metadata": {},
   "source": [
    "# Model 6 (w/ ReduceLROnPlateau and EarlyStopping)"
   ]
  },
  {
   "cell_type": "code",
   "execution_count": null,
   "metadata": {
    "scrolled": true
   },
   "outputs": [],
   "source": [
    "#Defining here the layers\n",
    "inp = Input(shape=(14,))\n",
    "l1 = Dense(50, input_shape=(14,), activation='sigmoid')(inp)\n",
    "l2 = Dense(20, input_shape=(50,), activation='sigmoid')(l1)\n",
    "l3 = Dense(10, input_shape=(20,), activation='sigmoid')(l2) \n",
    "ldrop = Dropout(0.4)(l3)\n",
    "out = Dense(3, input_shape=(10,), activation='softmax')(ldrop)\n",
    "ffNN = Model(inp,out) \n",
    "ffNN.summary()\n",
    "ffNN.compile(optimizer='adam', loss='categorical_crossentropy', metrics=['accuracy'])\n",
    "## Reduce LR on Plateau and early stopping\n",
    "early_stop = EarlyStopping(monitor='val_loss', patience=10, mode='min')\n",
    "reduce_lr = ReduceLROnPlateau(monitor='val_loss', factor=0.5, patience=4, min_lr=0.0001)\n",
    "histo = ffNN.fit(normX, Y, callbacks=[reduce_lr,early_stop], batch_size=100, epochs=150, verbose=1, validation_data=(normXval,Yval))\n",
    "mod6 = ffNN.to_json()\n",
    "with open(\"trained_networks/model_6.json\", \"w\") as json_file:\n",
    "    json_file.write(mod6)\n",
    "# serialize weights to HDF5\n",
    "ffNN.save_weights(\"trained_networks/model_6.h5\")\n",
    "print(\"Saved model to disk\")"
   ]
  },
  {
   "cell_type": "code",
   "execution_count": null,
   "metadata": {},
   "outputs": [],
   "source": [
    "# loss\n",
    "plt.plot(histo.history['loss'])\n",
    "plt.plot(histo.history['val_loss'])\n",
    "plt.title('model loss')\n",
    "plt.yscale('log')\n",
    "plt.ylabel('Loss')\n",
    "plt.xlabel('Epoch')\n",
    "plt.legend(['training', 'validation'], loc='best')\n",
    "plt.savefig(\"Loss_HLF.pdf\")\n",
    "plt.savefig(\"Loss_HLF.png\")\n",
    "plt.show()\n",
    "# accuracy\n",
    "plt.plot(histo.history['acc'])\n",
    "plt.plot(histo.history['val_acc'])\n",
    "plt.title('model accuracy')\n",
    "plt.ylabel('Accuracy')\n",
    "plt.xlabel('Epoch')\n",
    "plt.legend(['training', 'validation'], loc='best')\n",
    "plt.show()"
   ]
  },
  {
   "cell_type": "code",
   "execution_count": null,
   "metadata": {},
   "outputs": [],
   "source": [
    "## Make ROC curve\n",
    "prob = ffNN.predict(normXval)\n",
    "from sklearn.metrics import roc_curve, auc\n",
    "fpr, tpr, thresholds = roc_curve(Yval[:,1], prob[:, 1])\n",
    "# with the [:,1] we extract only the results of the column of ttbar [0,1,0], i.e our signal\n",
    "area = auc(fpr, tpr)\n",
    "plt.figure()\n",
    "plt.plot(fpr,tpr,label=\"DenseNN HLF (AUC): {}\".format(area))\n",
    "plt.ylabel('Signal Efficiency (TPR)')\n",
    "plt.xlabel('Signal Contamination (FPR)')\n",
    "plt.legend(loc='best')\n",
    "#plt.savefig(\"ROC_HLF.pdf\")\n",
    "#plt.savefig(\"ROC_HLF.png\")\n",
    "plt.show()\n",
    "#np.save(\"FPR\", fpr)\n",
    "#np.save(\"TPR\", tpr)\n",
    "#with h5py.File(\"HLF_ROC.h5\",\"w\") as roc_file:\n",
    "#    roc_file.create_dataset(\"FPR\", data=fpr)\n",
    "#    roc_file.create_dataset(\"TPR\", data=tpr)\n",
    "#print(thresholds)\n",
    "#print(fpr)"
   ]
  },
  {
   "cell_type": "markdown",
   "metadata": {},
   "source": [
    "# Model 7 (w/ Thong's optimizer, still with epoch 100!)"
   ]
  },
  {
   "cell_type": "code",
   "execution_count": null,
   "metadata": {
    "scrolled": true
   },
   "outputs": [],
   "source": [
    "from sklearn.model_selection import GridSearchCV\n",
    "from keras.wrappers.scikit_learn import KerasClassifier \n",
    "from keras.models import model_from_json\n",
    "from utils.create_model import create_model\n",
    "\n",
    "#load json and create model\n",
    "#json_file = open('trained_networks/model_5.json', 'r')\n",
    "#loaded_model_json = json_file.read()\n",
    "#json_file.close()\n",
    "#loaded_model = model_from_json(loaded_model_json)\n",
    "#load weights into new model\n",
    "#loaded_model.load_weights(\"model.h5\")\n",
    "#print(\"Loaded model from disk\")\n",
    "#template_model = create_model()\n",
    "\n",
    "model = KerasClassifier(build_fn=create_model, epochs=150, batch_size=1000, verbose=1)\n",
    "init_size = [1800, 1900]\n",
    "layers = [3]\n",
    "optimizer = ['Nadam',\"Adam\",\"RMSprop\",\"SGD\"]\n",
    "param_grid = dict(init_size=init_size, layers=layers, optimizer=optimizer)\n",
    "\n",
    "grid = GridSearchCV(estimator=model, param_grid=param_grid, n_jobs=1, cv=2, verbose=1)\n",
    "grid_result = grid.fit(normX,Y)\n",
    "\n",
    "# summarize results\n",
    "print(\"Best: %f using %s with estimator %s\" % (grid_result.best_score_, grid_result.best_params_, grid_result.best_estimator_))\n",
    "means = grid_result.cv_results_['mean_test_score']\n",
    "stds = grid_result.cv_results_['std_test_score']\n",
    "params = grid_result.cv_results_['params']\n",
    "\n",
    "for mean, stdev, param in zip(means, stds, params):\n",
    "    print(\"%f (%f) with: %r\" % (mean, stdev, param))\n",
    "\n"
   ]
  },
  {
   "cell_type": "markdown",
   "metadata": {},
   "source": [
    "# Model 8 (after optimization)"
   ]
  },
  {
   "cell_type": "code",
   "execution_count": null,
   "metadata": {
    "scrolled": false
   },
   "outputs": [],
   "source": [
    "# Defining here the layers\n",
    "inp = Input(shape=(14,))\n",
    "l1 = Dense(1900, input_shape=(14,), activation='sigmoid')(inp)\n",
    "ldrop1 = Dropout(0.4)(l1)\n",
    "l2 = Dense(950, input_shape=(1900,), activation='sigmoid')(ldrop1)\n",
    "ldrop2 = Dropout(0.4)(l2)\n",
    "l3 = Dense(475, input_shape=(950,), activation='sigmoid')(ldrop2) \n",
    "ldrop3 = Dropout(0.4)(l3)\n",
    "out = Dense(3, input_shape=(475,), activation='softmax')(ldrop3)\n",
    "ffNN = Model(inp,out) \n",
    "ffNN.summary()\n",
    "ffNN.compile(optimizer='Nadam', loss='categorical_crossentropy', metrics=['accuracy']) \n",
    "histo = ffNN.fit(normX, Y, batch_size=100, epochs=150, verbose=1, validation_data=(normXval,Yval))\n",
    "mod5 = ffNN.to_json()\n",
    "with open(\"trained_networks/model_8.json\", \"w\") as json_file:\n",
    "    json_file.write(mod5)\n",
    "# serialize weights to HDF5\n",
    "ffNN.save_weights(\"trained_networks/model_8.h5\")\n",
    "print(\"Saved model to disk\")"
   ]
  },
  {
   "cell_type": "markdown",
   "metadata": {},
   "source": [
    "### Loss and accuracy"
   ]
  },
  {
   "cell_type": "code",
   "execution_count": null,
   "metadata": {},
   "outputs": [],
   "source": [
    "# loss\n",
    "plt.plot(histo.history['loss'])\n",
    "plt.plot(histo.history['val_loss'])\n",
    "plt.title('model loss')\n",
    "plt.yscale('log')\n",
    "plt.ylabel('Loss')\n",
    "plt.xlabel('Epoch')\n",
    "plt.legend(['training', 'validation'], loc='best')\n",
    "plt.savefig(\"Loss_HLF.pdf\")\n",
    "plt.savefig(\"Loss_HLF.png\")\n",
    "plt.show()\n",
    "# accuracy\n",
    "plt.plot(histo.history['acc'])\n",
    "plt.plot(histo.history['val_acc'])\n",
    "plt.title('model accuracy')\n",
    "plt.ylabel('Accuracy')\n",
    "plt.xlabel('Epoch')\n",
    "plt.legend(['training', 'validation'], loc='best')\n",
    "plt.show()"
   ]
  },
  {
   "cell_type": "markdown",
   "metadata": {},
   "source": [
    "### ROC curve"
   ]
  },
  {
   "cell_type": "code",
   "execution_count": null,
   "metadata": {},
   "outputs": [],
   "source": [
    "## Make ROC curve\n",
    "prob = ffNN.predict(normXval)\n",
    "from sklearn.metrics import roc_curve, auc\n",
    "fpr, tpr, thresholds = roc_curve(Yval[:,1], prob[:, 1])\n",
    "# with the [:,1] we extract only the results of the column of ttbar [0,1,0], i.e our signal\n",
    "area = auc(fpr, tpr)\n",
    "plt.figure()\n",
    "plt.plot(fpr,tpr,label=\"DenseNN HLF (AUC): {}\".format(area))\n",
    "plt.ylabel('Signal Efficiency (TPR)')\n",
    "plt.xlabel('Signal Contamination (FPR)')\n",
    "plt.legend(loc='best')\n",
    "plt.savefig(\"ROC_HLF.pdf\")\n",
    "plt.savefig(\"ROC_HLF.png\")\n",
    "plt.show()\n",
    "np.save(\"FPR\", fpr)\n",
    "np.save(\"TPR\", tpr)\n",
    "with h5py.File(\"HLF_optimized_ROC.h5\",\"w\") as roc_file:\n",
    "    roc_file.create_dataset(\"FPR\", data=fpr)\n",
    "    roc_file.create_dataset(\"TPR\", data=tpr)\n",
    "#print(thresholds)"
   ]
  },
  {
   "cell_type": "code",
   "execution_count": null,
   "metadata": {},
   "outputs": [],
   "source": [
    "# 1- FPR ( at TPR=0.95) \n",
    "print(1-fpr[np.where((tpr >=0.94999) & (tpr <=0.95050000))[0]])\n",
    "# 1- FPR ( at TPR=0.90) \n",
    "print(1-fpr[np.where((tpr >=0.89999) & (tpr <=0.900100000))[0]])"
   ]
  }
 ],
 "metadata": {
  "kernelspec": {
   "display_name": "Python 3",
   "language": "python",
   "name": "python3"
  },
  "language_info": {
   "codemirror_mode": {
    "name": "ipython",
    "version": 3
   },
   "file_extension": ".py",
   "mimetype": "text/x-python",
   "name": "python",
   "nbconvert_exporter": "python",
   "pygments_lexer": "ipython3",
   "version": "3.5.2"
  }
 },
 "nbformat": 4,
 "nbformat_minor": 2
}
